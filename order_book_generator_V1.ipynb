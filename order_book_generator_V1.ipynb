{
 "cells": [
  {
   "cell_type": "markdown",
   "metadata": {},
   "source": [
    "### TODO:\n",
    "- Chart with:\n",
    "    - Identify pivot points, and build systems that identify resistance and support lines \n",
    "    - Identify lines where the price closes and open, plot a line with low alpha and frequently lines will overlay to create a thicker line.\n",
    "\n",
    "- Make a method to be updating the orderbook every 5 minutes, and do live udpates: https://pythonprogramming.net/python-matplotlib-live-updating-graphs/\n",
    "    - Update rounding method to not always round down.\n",
    "    - Add in bollinger band lines and line for current price, and generates graph around current price with $500 bounds\n",
    "    - Post data to twitter for moolah\n",
    "- Create a method for viewing the charts by their order id's to see if its the same person generating orders. \n",
    "- Figure out how to calculate the number of BTC in circulation at Coinbase, and then use that as a basis to determine how much a price might drop by the change in value of the marketcap (https://www.quora.com/What-is-the-formula-to-calculate-a-price-of-a-cryptocurrency)\n",
    "- Work on the equity-AEI project\n",
    "- Get a model to use lagging indicators, and then use all of those values to forecast the price. Need to build the dataset over time. Collected every ten minutes? Need to look at the rate that I can request the full order book.\n",
    "- I'd want to try and forecast the price how far in the future? Maybe I need a forecasting model, or a timeseries model."
   ]
  },
  {
   "cell_type": "markdown",
   "metadata": {},
   "source": [
    "## Readings so far on using ML to estimate price:\n",
    "- How to do time series analyses in python: https://machinelearningmastery.com/arima-for-time-series-forecasting-with-python/\n",
    "- Should ML be used to forecast prices? : https://machinelearningmastery.com/findings-comparing-classical-and-machine-learning-methods-for-time-series-forecasting/ \n",
    "- How to not screw up using ML for forecasting: https://towardsdatascience.com/how-not-to-use-machine-learning-for-time-series-forecasting-avoiding-the-pitfalls-19f9d7adf424"
   ]
  },
  {
   "cell_type": "markdown",
   "metadata": {},
   "source": [
    "### TODO:\n",
    "- Create a twitter connection, so that everytime I run this order book,  it sends out a tweet. Or maybe make it iterate through a list of currencies. "
   ]
  },
  {
   "cell_type": "code",
   "execution_count": 1,
   "metadata": {
    "execution": {
     "iopub.execute_input": "2021-10-15T20:53:31.866644Z",
     "iopub.status.busy": "2021-10-15T20:53:31.866644Z",
     "iopub.status.idle": "2021-10-15T20:53:40.505099Z",
     "shell.execute_reply": "2021-10-15T20:53:40.505099Z",
     "shell.execute_reply.started": "2021-10-15T20:53:31.866644Z"
    }
   },
   "outputs": [],
   "source": [
    "import pandas as pd\n",
    "import numpy as np\n",
    "import requests\n",
    "import json\n",
    "import matplotlib.pyplot as plt"
   ]
  },
  {
   "cell_type": "code",
   "execution_count": 2,
   "metadata": {
    "execution": {
     "iopub.execute_input": "2021-10-15T20:53:40.505099Z",
     "iopub.status.busy": "2021-10-15T20:53:40.505099Z",
     "iopub.status.idle": "2021-10-15T20:53:40.522126Z",
     "shell.execute_reply": "2021-10-15T20:53:40.521128Z",
     "shell.execute_reply.started": "2021-10-15T20:53:40.505099Z"
    }
   },
   "outputs": [],
   "source": [
    "from datetime import datetime"
   ]
  },
  {
   "cell_type": "code",
   "execution_count": 3,
   "metadata": {
    "execution": {
     "iopub.execute_input": "2021-10-15T20:53:40.523289Z",
     "iopub.status.busy": "2021-10-15T20:53:40.523289Z",
     "iopub.status.idle": "2021-10-15T20:53:40.539116Z",
     "shell.execute_reply": "2021-10-15T20:53:40.536308Z",
     "shell.execute_reply.started": "2021-10-15T20:53:40.523289Z"
    }
   },
   "outputs": [],
   "source": [
    "from matplotlib import animation, rc"
   ]
  },
  {
   "cell_type": "code",
   "execution_count": 4,
   "metadata": {
    "execution": {
     "iopub.execute_input": "2021-10-15T20:53:40.542708Z",
     "iopub.status.busy": "2021-10-15T20:53:40.542071Z",
     "iopub.status.idle": "2021-10-15T20:53:40.553043Z",
     "shell.execute_reply": "2021-10-15T20:53:40.552044Z",
     "shell.execute_reply.started": "2021-10-15T20:53:40.542708Z"
    }
   },
   "outputs": [],
   "source": [
    "from IPython.display import HTML"
   ]
  },
  {
   "cell_type": "code",
   "execution_count": 5,
   "metadata": {
    "execution": {
     "iopub.execute_input": "2021-10-15T20:53:40.556607Z",
     "iopub.status.busy": "2021-10-15T20:53:40.555037Z",
     "iopub.status.idle": "2021-10-15T20:53:40.568004Z",
     "shell.execute_reply": "2021-10-15T20:53:40.568004Z",
     "shell.execute_reply.started": "2021-10-15T20:53:40.556607Z"
    }
   },
   "outputs": [],
   "source": [
    "base_url = 'https://api.pro.coinbase.com'"
   ]
  },
  {
   "cell_type": "code",
   "execution_count": 6,
   "metadata": {
    "execution": {
     "iopub.execute_input": "2021-10-15T20:53:40.570032Z",
     "iopub.status.busy": "2021-10-15T20:53:40.570032Z",
     "iopub.status.idle": "2021-10-15T20:53:40.584086Z",
     "shell.execute_reply": "2021-10-15T20:53:40.584086Z",
     "shell.execute_reply.started": "2021-10-15T20:53:40.570032Z"
    }
   },
   "outputs": [],
   "source": [
    "products = '/products'"
   ]
  },
  {
   "cell_type": "code",
   "execution_count": 7,
   "metadata": {
    "execution": {
     "iopub.execute_input": "2021-10-15T20:53:40.585955Z",
     "iopub.status.busy": "2021-10-15T20:53:40.584957Z",
     "iopub.status.idle": "2021-10-15T20:53:40.600914Z",
     "shell.execute_reply": "2021-10-15T20:53:40.599917Z",
     "shell.execute_reply.started": "2021-10-15T20:53:40.585955Z"
    }
   },
   "outputs": [],
   "source": [
    "book = '/book?level='"
   ]
  },
  {
   "cell_type": "code",
   "execution_count": 8,
   "metadata": {
    "execution": {
     "iopub.execute_input": "2021-10-15T20:53:40.602086Z",
     "iopub.status.busy": "2021-10-15T20:53:40.601911Z",
     "iopub.status.idle": "2021-10-15T20:53:40.615910Z",
     "shell.execute_reply": "2021-10-15T20:53:40.615910Z",
     "shell.execute_reply.started": "2021-10-15T20:53:40.602086Z"
    }
   },
   "outputs": [],
   "source": [
    "#Only shows best bid and ask\n",
    "level_1 = '1'\n",
    "#Only shows top 50 bids and asks\n",
    "level_2 = '2'\n",
    "#Shows all bids and asks\n",
    "level_3 = '3'"
   ]
  },
  {
   "cell_type": "code",
   "execution_count": 9,
   "metadata": {
    "execution": {
     "iopub.execute_input": "2021-10-15T20:53:40.618879Z",
     "iopub.status.busy": "2021-10-15T20:53:40.617868Z",
     "iopub.status.idle": "2021-10-15T20:53:40.632828Z",
     "shell.execute_reply": "2021-10-15T20:53:40.631835Z",
     "shell.execute_reply.started": "2021-10-15T20:53:40.618879Z"
    }
   },
   "outputs": [],
   "source": [
    "curr1 = 'ETH'\n",
    "curr2 = 'USD'\n",
    "pair = '/' + curr1 + '-' + curr2"
   ]
  },
  {
   "cell_type": "code",
   "execution_count": 10,
   "metadata": {
    "execution": {
     "iopub.execute_input": "2021-10-15T20:53:40.634824Z",
     "iopub.status.busy": "2021-10-15T20:53:40.634824Z",
     "iopub.status.idle": "2021-10-15T20:53:40.648789Z",
     "shell.execute_reply": "2021-10-15T20:53:40.646829Z",
     "shell.execute_reply.started": "2021-10-15T20:53:40.634824Z"
    }
   },
   "outputs": [],
   "source": [
    "def round_num(num, round_to_val):\n",
    "    while num % round_to_val != 0:\n",
    "        num -= 1\n",
    "    return num"
   ]
  },
  {
   "cell_type": "code",
   "execution_count": 11,
   "metadata": {
    "execution": {
     "iopub.execute_input": "2021-10-15T20:53:40.649785Z",
     "iopub.status.busy": "2021-10-15T20:53:40.649785Z",
     "iopub.status.idle": "2021-10-15T20:53:40.664613Z",
     "shell.execute_reply": "2021-10-15T20:53:40.662748Z",
     "shell.execute_reply.started": "2021-10-15T20:53:40.649785Z"
    }
   },
   "outputs": [
    {
     "data": {
      "text/plain": [
       "110"
      ]
     },
     "execution_count": 11,
     "metadata": {},
     "output_type": "execute_result"
    }
   ],
   "source": [
    "round_num(111, 5)"
   ]
  },
  {
   "cell_type": "code",
   "execution_count": 12,
   "metadata": {
    "execution": {
     "iopub.execute_input": "2021-10-15T20:53:40.665750Z",
     "iopub.status.busy": "2021-10-15T20:53:40.665750Z",
     "iopub.status.idle": "2021-10-15T20:53:40.694701Z",
     "shell.execute_reply": "2021-10-15T20:53:40.694701Z",
     "shell.execute_reply.started": "2021-10-15T20:53:40.665750Z"
    }
   },
   "outputs": [],
   "source": [
    "def gen_ob(pair, level):\n",
    "    data = requests.get(base_url + products + pair + book + level)\n",
    "    data = json.loads(data.content.decode('utf-8').replace(\"'\", '\"'))\n",
    "    bids = pd.DataFrame(data['bids'], columns=['price', 'amount', 'id'])\n",
    "    asks = pd.DataFrame(data['asks'], columns=['price', 'amount', 'id'])\n",
    "    bids['bid'] = 1\n",
    "    asks['ask'] = 1\n",
    "    ob = pd.concat([bids, asks])\n",
    "    ob = ob.fillna(0)\n",
    "    ob = ob.sort_values(by='price', ascending=False)\n",
    "    ob['price'] = ob['price'].apply(lambda price: float(price))\n",
    "    ob['amount'] = ob['amount'].apply(lambda amnt: float(amnt))\n",
    "    ob['price'] = np.round(ob['price'], 0)\n",
    "    ob['price'] = ob['price'].apply(lambda price: round_num(price, 1))\n",
    "    ob_price = ob.groupby('price')\n",
    "    result ={\n",
    "        'price': [],\n",
    "        'amount': [],\n",
    "        'bid': [],\n",
    "        'ask': []\n",
    "    }\n",
    "    for price in ob_price:\n",
    "        result['price'].append(price[0])\n",
    "        result['amount'].append(np.sum(price[1]['amount']))\n",
    "        result['bid'].append(price[1]['bid'].tolist()[0])\n",
    "        result['ask'].append(price[1]['ask'].tolist()[0])\n",
    "    ob = pd.DataFrame(result)\n",
    "    ob = ob.sort_values(by='price', ascending=False)\n",
    "    ob['amount'] = ob['amount'].apply(lambda amnt: float(amnt))\n",
    "    ob['amount'] = np.round(ob['amount'], 5)\n",
    "    ob['price'] = ob['price'].apply(lambda price: int(price))\n",
    "    ob['value'] = ob['price'] * ob['amount']\n",
    "    curr1 = pair.split('-')[0].strip('/')\n",
    "    curr2 = pair.split('-')[1]\n",
    "    ob.to_excel(curr1+'_'+curr2+'_ob.xlsx')\n",
    "    return ob"
   ]
  },
  {
   "cell_type": "code",
   "execution_count": 13,
   "metadata": {
    "execution": {
     "iopub.execute_input": "2021-10-15T20:53:40.698654Z",
     "iopub.status.busy": "2021-10-15T20:53:40.696657Z",
     "iopub.status.idle": "2021-10-15T20:53:47.917911Z",
     "shell.execute_reply": "2021-10-15T20:53:47.917911Z",
     "shell.execute_reply.started": "2021-10-15T20:53:40.698654Z"
    }
   },
   "outputs": [],
   "source": [
    "og_ob = gen_ob(pair, level_3)"
   ]
  },
  {
   "cell_type": "code",
   "execution_count": 28,
   "metadata": {
    "execution": {
     "iopub.execute_input": "2021-10-15T20:58:25.447955Z",
     "iopub.status.busy": "2021-10-15T20:58:25.446912Z",
     "iopub.status.idle": "2021-10-15T20:58:25.454796Z",
     "shell.execute_reply": "2021-10-15T20:58:25.454796Z",
     "shell.execute_reply.started": "2021-10-15T20:58:25.447955Z"
    },
    "tags": []
   },
   "outputs": [],
   "source": [
    "def ob_range(ob, upper, lower, metric, amount=None, value=None):\n",
    "    ob = ob[ob.price < upper]\n",
    "    ob = ob[ob.price > lower]\n",
    "    ob = ob.sort_values(by='price')\n",
    "    print(ob.shape)\n",
    "    colors = []\n",
    "    for index in range(len(ob.price.tolist())):\n",
    "        if ob['bid'].tolist()[index] == 1:\n",
    "            colors.append('green')\n",
    "        if ob['ask'].tolist()[index] == 1:\n",
    "            colors.append('red')\n",
    "    if not(amount is None):\n",
    "        ob = ob[ob.amount > amount]\n",
    "    if not(value is None):\n",
    "        ob = ob[ob.value > value]\n",
    "    ax1.clear()\n",
    "    plt.grid(True)\n",
    "    x = ob['price'].apply(lambda price: str(price)).tolist()\n",
    "    y = ob[metric].tolist()\n",
    "#     ax1.barh(x,y,color=colors)\n",
    "#     title = 'Bids and Asks for '+ curr1+'-'+curr2 + ' on '+ str(datetime.today().strftime('%m-%d-%Y'))\n",
    "#     plt.title(title, loc='center',fontdict={'fontsize':20})\n",
    "#     plt.xticks(rotation=45,fontsize='medium')\n",
    "#     xlabel = 'Price of ' + curr1\n",
    "#     plt.xlabel(xlabel, fontsize='x-large')\n",
    "#     ylabel = 'Units of '+curr1\n",
    "#     plt.ylabel(ylabel, fontsize='x-large')\n",
    "#     plt.yticks(fontsize='medium')"
   ]
  },
  {
   "cell_type": "code",
   "execution_count": 26,
   "metadata": {
    "execution": {
     "iopub.execute_input": "2021-10-15T20:58:11.229506Z",
     "iopub.status.busy": "2021-10-15T20:58:11.227360Z",
     "iopub.status.idle": "2021-10-15T20:58:11.241838Z",
     "shell.execute_reply": "2021-10-15T20:58:11.240740Z",
     "shell.execute_reply.started": "2021-10-15T20:58:11.229506Z"
    },
    "tags": []
   },
   "outputs": [],
   "source": [
    "def animate(i):\n",
    "    og_ob = gen_ob(pair, level_3)\n",
    "    ob_range(og_ob, upper=4100, lower=3600, metric='amount')"
   ]
  },
  {
   "cell_type": "code",
   "execution_count": 30,
   "metadata": {
    "execution": {
     "iopub.execute_input": "2021-10-15T20:59:25.999658Z",
     "iopub.status.busy": "2021-10-15T20:59:25.999658Z",
     "iopub.status.idle": "2021-10-15T20:59:26.330760Z",
     "shell.execute_reply": "2021-10-15T20:59:26.330760Z",
     "shell.execute_reply.started": "2021-10-15T20:59:25.999658Z"
    },
    "tags": []
   },
   "outputs": [
    {
     "name": "stdout",
     "output_type": "stream",
     "text": [
      "(498, 5)\n"
     ]
    },
    {
     "data": {
      "image/png": "[encoded data removed]",
      "text/plain": [
       "<Figure size 720x1440 with 1 Axes>"
      ]
     },
     "metadata": {
      "needs_background": "light"
     },
     "output_type": "display_data"
    }
   ],
   "source": [
    "fig = plt.figure(figsize=(10,20))\n",
    "ax1 = fig.add_subplot(1,1,1)\n",
    "ob_range(og_ob, upper=4100, lower=3600, metric='amount')"
   ]
  },
  {
   "cell_type": "code",
   "execution_count": 29,
   "metadata": {
    "execution": {
     "iopub.execute_input": "2021-10-15T20:58:26.983904Z",
     "iopub.status.busy": "2021-10-15T20:58:26.982957Z",
     "iopub.status.idle": "2021-10-15T20:58:27.203882Z",
     "shell.execute_reply": "2021-10-15T20:58:27.203259Z",
     "shell.execute_reply.started": "2021-10-15T20:58:26.983904Z"
    },
    "tags": []
   },
   "outputs": [
    {
     "data": {
      "image/png": "[encoded data removed]",
      "text/plain": [
       "<Figure size 720x1440 with 1 Axes>"
      ]
     },
     "metadata": {
      "needs_background": "light"
     },
     "output_type": "display_data"
    }
   ],
   "source": [
    "\n",
    "# ani = animation.FuncAnimation(fig, animate, blit=False, interval=5000)\n",
    "# temp_fig = plt.gcf()\n",
    "# temp_fig.savefig('test.png', dpi=100)"
   ]
  }
 ],
 "metadata": {
  "kernelspec": {
   "display_name": "Python 3 (ipykernel)",
   "language": "python",
   "name": "python3"
  },
  "language_info": {
   "codemirror_mode": {
    "name": "ipython",
    "version": 3
   },
   "file_extension": ".py",
   "mimetype": "text/x-python",
   "name": "python",
   "nbconvert_exporter": "python",
   "pygments_lexer": "ipython3",
   "version": "3.8.3"
  }
 },
 "nbformat": 4,
 "nbformat_minor": 4
}

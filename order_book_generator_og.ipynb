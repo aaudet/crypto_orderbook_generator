{
 "cells": [
  {
   "cell_type": "markdown",
   "metadata": {},
   "source": [
    "### TODO:\n",
    "- Chart with:\n",
    "    - Identify pivot points, and build systems that identify resistance and support lines \n",
    "    - Identify lines where the price closes and open, plot a line with low alpha and frequently lines will overlay to create a thicker line.\n",
    "\n",
    "- Make a method to be updating the orderbook every 5 minutes, and do live udpates: https://pythonprogramming.net/python-matplotlib-live-updating-graphs/\n",
    "    - Update rounding method to not always round down.\n",
    "    - Add in bollinger band lines and line for current price, and generates graph around current price with $500 bounds\n",
    "    - Post data to twitter for moolah\n",
    "- Create a method for viewing the charts by their order id's to see if its the same person generating orders. \n",
    "- Figure out how to calculate the number of BTC in circulation at Coinbase, and then use that as a basis to determine how much a price might drop by the change in value of the marketcap (https://www.quora.com/What-is-the-formula-to-calculate-a-price-of-a-cryptocurrency)\n",
    "- Work on the equity-AEI project\n",
    "- Get a model to use lagging indicators, and then use all of those values to forecast the price. Need to build the dataset over time. Collected every ten minutes? Need to look at the rate that I can request the full order book.\n",
    "- I'd want to try and forecast the price how far in the future? Maybe I need a forecasting model, or a timeseries model."
   ]
  },
  {
   "cell_type": "markdown",
   "metadata": {},
   "source": [
    "## Readings so far on using ML to estimate price:\n",
    "- How to do time series analyses in python: https://machinelearningmastery.com/arima-for-time-series-forecasting-with-python/\n",
    "- Should ML be used to forecast prices? : https://machinelearningmastery.com/findings-comparing-classical-and-machine-learning-methods-for-time-series-forecasting/ \n",
    "- How to not screw up using ML for forecasting: https://towardsdatascience.com/how-not-to-use-machine-learning-for-time-series-forecasting-avoiding-the-pitfalls-19f9d7adf424"
   ]
  },
  {
   "cell_type": "code",
   "execution_count": 1,
   "metadata": {},
   "outputs": [],
   "source": [
    "import pandas as pd\n",
    "import numpy as np\n",
    "import requests\n",
    "import json\n",
    "import matplotlib.pyplot as plt"
   ]
  },
  {
   "cell_type": "code",
   "execution_count": 2,
   "metadata": {},
   "outputs": [],
   "source": [
    "import matplotlib.animation as animation"
   ]
  },
  {
   "cell_type": "code",
   "execution_count": 3,
   "metadata": {},
   "outputs": [],
   "source": [
    "base_url = 'https://api.pro.coinbase.com'"
   ]
  },
  {
   "cell_type": "code",
   "execution_count": 4,
   "metadata": {},
   "outputs": [],
   "source": [
    "products = '/products'"
   ]
  },
  {
   "cell_type": "code",
   "execution_count": 5,
   "metadata": {},
   "outputs": [],
   "source": [
    "book = '/book?level='"
   ]
  },
  {
   "cell_type": "code",
   "execution_count": 6,
   "metadata": {},
   "outputs": [],
   "source": [
    "#Only shows best bid and ask\n",
    "level_1 = '1'\n",
    "#Only shows top 50 bids and asks\n",
    "level_2 = '2'\n",
    "#Shows all bids and asks\n",
    "level_3 = '3'"
   ]
  },
  {
   "cell_type": "code",
   "execution_count": 7,
   "metadata": {},
   "outputs": [],
   "source": [
    "curr1 = 'ETH'\n",
    "curr2 = 'USD'\n",
    "pair = '/' + curr1 + '-' + curr2"
   ]
  },
  {
   "cell_type": "code",
   "execution_count": 8,
   "metadata": {},
   "outputs": [],
   "source": [
    "def round_num(num, round_to_val):\n",
    "    while num % round_to_val != 0:\n",
    "        num -= 1\n",
    "    return num"
   ]
  },
  {
   "cell_type": "code",
   "execution_count": 9,
   "metadata": {},
   "outputs": [
    {
     "data": {
      "text/plain": [
       "110"
      ]
     },
     "execution_count": 9,
     "metadata": {},
     "output_type": "execute_result"
    }
   ],
   "source": [
    "round_num(111, 5)"
   ]
  },
  {
   "cell_type": "code",
   "execution_count": 10,
   "metadata": {},
   "outputs": [],
   "source": [
    "def gen_ob(pair, level):\n",
    "    data = requests.get(base_url + products + pair + book + level)\n",
    "    data = json.loads(data.content.decode('utf-8').replace(\"'\", '\"'))\n",
    "    bids = pd.DataFrame(data['bids'], columns=['price', 'amount', 'id'])\n",
    "    asks = pd.DataFrame(data['asks'], columns=['price', 'amount', 'id'])\n",
    "    bids['bid'] = 1\n",
    "    asks['ask'] = 1\n",
    "    ob = pd.concat([bids, asks])\n",
    "    ob = ob.fillna(0)\n",
    "    ob = ob.sort_values(by='price', ascending=False)\n",
    "    ob['price'] = ob['price'].apply(lambda price: float(price))\n",
    "    ob['amount'] = ob['amount'].apply(lambda amnt: float(amnt))\n",
    "    ob['price'] = np.round(ob['price'], 0)\n",
    "    ob['price'] = ob['price'].apply(lambda price: round_num(price, 5))\n",
    "    ob_price = ob.groupby('price')\n",
    "    result ={\n",
    "        'price': [],\n",
    "        'amount': [],\n",
    "        'bid': [],\n",
    "        'ask': []\n",
    "    }\n",
    "    for price in ob_price:\n",
    "        result['price'].append(price[0])\n",
    "        result['amount'].append(np.sum(price[1]['amount']))\n",
    "        result['bid'].append(price[1]['bid'].tolist()[0])\n",
    "        result['ask'].append(price[1]['ask'].tolist()[0])\n",
    "    ob = pd.DataFrame(result)\n",
    "    ob = ob.sort_values(by='price', ascending=False)\n",
    "    ob['amount'] = ob['amount'].apply(lambda amnt: float(amnt))\n",
    "    ob['amount'] = np.round(ob['amount'], 5)\n",
    "    ob['price'] = ob['price'].apply(lambda price: int(price))\n",
    "    ob['value'] = ob['price'] * ob['amount']\n",
    "    curr1 = pair.split('-')[0].strip('/')\n",
    "    curr2 = pair.split('-')[1]\n",
    "    ob.to_excel(curr1+'_'+curr2+'_ob.xlsx')\n",
    "    return ob"
   ]
  },
  {
   "cell_type": "code",
   "execution_count": 11,
   "metadata": {},
   "outputs": [],
   "source": [
    "og_ob = gen_ob(pair, level_3)"
   ]
  },
  {
   "cell_type": "code",
   "execution_count": 12,
   "metadata": {},
   "outputs": [
    {
     "data": {
      "text/html": [
       "<div>\n",
       "<style scoped>\n",
       "    .dataframe tbody tr th:only-of-type {\n",
       "        vertical-align: middle;\n",
       "    }\n",
       "\n",
       "    .dataframe tbody tr th {\n",
       "        vertical-align: top;\n",
       "    }\n",
       "\n",
       "    .dataframe thead th {\n",
       "        text-align: right;\n",
       "    }\n",
       "</style>\n",
       "<table border=\"1\" class=\"dataframe\">\n",
       "  <thead>\n",
       "    <tr style=\"text-align: right;\">\n",
       "      <th></th>\n",
       "      <th>price</th>\n",
       "      <th>amount</th>\n",
       "      <th>bid</th>\n",
       "      <th>ask</th>\n",
       "      <th>value</th>\n",
       "    </tr>\n",
       "  </thead>\n",
       "  <tbody>\n",
       "    <tr>\n",
       "      <th>2319</th>\n",
       "      <td>9999999995</td>\n",
       "      <td>4.00000</td>\n",
       "      <td>0.0</td>\n",
       "      <td>1.0</td>\n",
       "      <td>4.000000e+10</td>\n",
       "    </tr>\n",
       "    <tr>\n",
       "      <th>2318</th>\n",
       "      <td>6261919910</td>\n",
       "      <td>0.01000</td>\n",
       "      <td>0.0</td>\n",
       "      <td>1.0</td>\n",
       "      <td>6.261920e+07</td>\n",
       "    </tr>\n",
       "    <tr>\n",
       "      <th>2317</th>\n",
       "      <td>1111111180</td>\n",
       "      <td>0.03057</td>\n",
       "      <td>0.0</td>\n",
       "      <td>1.0</td>\n",
       "      <td>3.396667e+07</td>\n",
       "    </tr>\n",
       "    <tr>\n",
       "      <th>2316</th>\n",
       "      <td>1000000000</td>\n",
       "      <td>0.40925</td>\n",
       "      <td>0.0</td>\n",
       "      <td>1.0</td>\n",
       "      <td>4.092500e+08</td>\n",
       "    </tr>\n",
       "    <tr>\n",
       "      <th>2315</th>\n",
       "      <td>999999995</td>\n",
       "      <td>3.00000</td>\n",
       "      <td>0.0</td>\n",
       "      <td>1.0</td>\n",
       "      <td>3.000000e+09</td>\n",
       "    </tr>\n",
       "  </tbody>\n",
       "</table>\n",
       "</div>"
      ],
      "text/plain": [
       "           price   amount  bid  ask         value\n",
       "2319  9999999995  4.00000  0.0  1.0  4.000000e+10\n",
       "2318  6261919910  0.01000  0.0  1.0  6.261920e+07\n",
       "2317  1111111180  0.03057  0.0  1.0  3.396667e+07\n",
       "2316  1000000000  0.40925  0.0  1.0  4.092500e+08\n",
       "2315   999999995  3.00000  0.0  1.0  3.000000e+09"
      ]
     },
     "execution_count": 12,
     "metadata": {},
     "output_type": "execute_result"
    }
   ],
   "source": [
    "og_ob.head()"
   ]
  },
  {
   "cell_type": "code",
   "execution_count": 13,
   "metadata": {},
   "outputs": [
    {
     "data": {
      "text/plain": [
       "(2320, 5)"
      ]
     },
     "execution_count": 13,
     "metadata": {},
     "output_type": "execute_result"
    }
   ],
   "source": [
    "og_ob.shape"
   ]
  },
  {
   "cell_type": "code",
   "execution_count": 14,
   "metadata": {},
   "outputs": [
    {
     "data": {
      "text/plain": [
       "<Figure size 432x288 with 0 Axes>"
      ]
     },
     "metadata": {},
     "output_type": "display_data"
    }
   ],
   "source": [
    "fig = plt.figure()"
   ]
  },
  {
   "cell_type": "code",
   "execution_count": 15,
   "metadata": {},
   "outputs": [],
   "source": [
    "def ob_range(ob, upper, lower, metric, amount=None, value=None):\n",
    "    ob = ob[ob.price < upper]\n",
    "    ob = ob[ob.price > lower]\n",
    "    ob = ob.sort_values(by='price')\n",
    "    colors = []\n",
    "    for index in range(len(ob.price.tolist())):\n",
    "        if ob['bid'].tolist()[index] == 1:\n",
    "            colors.append('green')\n",
    "        if ob['ask'].tolist()[index] == 1:\n",
    "            colors.append('red')\n",
    "    if not(amount is None):\n",
    "        ob = ob[ob.amount > amount]\n",
    "    if not(value is None):\n",
    "        ob = ob[ob.value > value]\n",
    "    plt.clf()\n",
    "    x = ob['price'].apply(lambda price: str(price)).tolist()\n",
    "    y = ob[metric].tolist()\n",
    "    fig.barh(x,y,color=colors)\n",
    "    fig.title('Bids and Asks', loc='center')\n",
    "    fig.xticks(rotation=45)\n",
    "    fig.grid(True)\n",
    "    fig.show()"
   ]
  },
  {
   "cell_type": "code",
   "execution_count": 16,
   "metadata": {},
   "outputs": [],
   "source": [
    "def animate(i):\n",
    "    og_ob = gen_ob(pair, level_3)\n",
    "    ob_range(og_ob, upper=2500, lower=1800, metric='amount')"
   ]
  },
  {
   "cell_type": "code",
   "execution_count": 17,
   "metadata": {},
   "outputs": [
    {
     "data": {
      "text/plain": [
       "<Figure size 720x2880 with 0 Axes>"
      ]
     },
     "metadata": {},
     "output_type": "display_data"
    }
   ],
   "source": [
    "fig = plt.figure(figsize=(10,40))\n",
    "ani = animation.FuncAnimation(fig, animate, interval=10000)"
   ]
  }
 ],
 "metadata": {
  "kernelspec": {
   "display_name": "Python 3",
   "language": "python",
   "name": "python3"
  },
  "language_info": {
   "codemirror_mode": {
    "name": "ipython",
    "version": 3
   },
   "file_extension": ".py",
   "mimetype": "text/x-python",
   "name": "python",
   "nbconvert_exporter": "python",
   "pygments_lexer": "ipython3",
   "version": "3.8.3"
  }
 },
 "nbformat": 4,
 "nbformat_minor": 4
}

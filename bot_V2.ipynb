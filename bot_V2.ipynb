{
 "cells": [
  {
   "cell_type": "markdown",
   "metadata": {},
   "source": [
    "#### TODO:\n",
    "- Algo seems to only be off by $100, but that's not much in the crypto world.\n",
    "- Need to figure out how to make this more useful. \n",
    "- Next price point isn't bad, but what's the start? I can make a decent model. Now what?\n",
    "    - Figure out how to generate the same data, but now estimate it for the next day."
   ]
  },
  {
   "cell_type": "markdown",
   "metadata": {},
   "source": [
    "# Use lagged values to predict current price to forecast price\n",
    "- Notes from this video: https://www.youtube.com/watch?v=xaIA83x5Icg\n",
    " - Create separate transformers for features on different scales\n",
    " - Use this video for building an initial LSTM model\n",
    "- Use this video and it's subsequent one for time series forecasting for BTC using binance exchange data: https://www.youtube.com/watch?v=jR0phoeXjrc\n",
    "    - Use shift to push a column down for matching previous data points to a forecasted point.\n",
    "    - This video is showing how to prep data for a time series model.\n",
    "    - This video is for how to take that preprocessed data and put into PyTorch for the LSTM model: https://www.youtube.com/watch?v=ODEGJ_kh2aA&t=107s\n",
    "         - "
   ]
  },
  {
   "cell_type": "markdown",
   "metadata": {},
   "source": [
    "### TODO:\n",
    "- Now that I'm able to forecast, I need to generate multiple models, and get the mean of all of their estimations a'la a random walk\n",
    "- Also plot their standard deviations to know the potential variation"
   ]
  },
  {
   "cell_type": "code",
   "execution_count": 1993,
   "metadata": {},
   "outputs": [],
   "source": [
    "import pandas as pd\n",
    "import numpy as np\n",
    "import requests\n",
    "import json\n",
    "import matplotlib.pyplot as plt\n",
    "import os"
   ]
  },
  {
   "cell_type": "code",
   "execution_count": 1994,
   "metadata": {},
   "outputs": [],
   "source": [
    "from xgboost import XGBRegressor\n",
    "from sklearn.pipeline import Pipeline\n",
    "from sklearn.model_selection import train_test_split\n",
    "from sklearn.preprocessing import StandardScaler\n",
    "from sklearn.metrics import mean_squared_error as mse"
   ]
  },
  {
   "cell_type": "code",
   "execution_count": 1995,
   "metadata": {},
   "outputs": [],
   "source": [
    "import datetime"
   ]
  },
  {
   "cell_type": "code",
   "execution_count": 1996,
   "metadata": {},
   "outputs": [],
   "source": [
    "import tensorflow as tf\n",
    "from keras import layers"
   ]
  },
  {
   "cell_type": "code",
   "execution_count": 1997,
   "metadata": {},
   "outputs": [],
   "source": [
    "from keras import models"
   ]
  },
  {
   "cell_type": "code",
   "execution_count": 1998,
   "metadata": {},
   "outputs": [],
   "source": [
    "from keras import optimizers"
   ]
  },
  {
   "cell_type": "code",
   "execution_count": 1999,
   "metadata": {},
   "outputs": [],
   "source": [
    "files = os.listdir(path='.')"
   ]
  },
  {
   "cell_type": "code",
   "execution_count": 2000,
   "metadata": {},
   "outputs": [],
   "source": [
    "crypto = pd.read_csv('ETH-USD.csv')"
   ]
  },
  {
   "cell_type": "code",
   "execution_count": 2001,
   "metadata": {},
   "outputs": [],
   "source": [
    "for col in crypto.columns.values:\n",
    "    crypto.rename(columns={\n",
    "        col: col.lower()\n",
    "    }, inplace=True)"
   ]
  },
  {
   "cell_type": "code",
   "execution_count": 2002,
   "metadata": {},
   "outputs": [],
   "source": [
    "crypto.drop('adj close',axis=1, inplace=True)"
   ]
  },
  {
   "cell_type": "code",
   "execution_count": 2003,
   "metadata": {},
   "outputs": [],
   "source": [
    "future_estim = 3\n",
    "output_label = 'next_close_'+str(future_estim)"
   ]
  },
  {
   "cell_type": "code",
   "execution_count": 2004,
   "metadata": {},
   "outputs": [],
   "source": [
    "crypto[output_label] = crypto['close'].shift(-1*future_estim)"
   ]
  },
  {
   "cell_type": "code",
   "execution_count": 2005,
   "metadata": {},
   "outputs": [],
   "source": [
    "window_size = 20"
   ]
  },
  {
   "cell_type": "code",
   "execution_count": 2006,
   "metadata": {},
   "outputs": [],
   "source": [
    "ma = []\n",
    "upper = []\n",
    "lower = []\n",
    "for i in range(window_size):\n",
    "    ma.append(np.nan)\n",
    "    upper.append(np.nan)\n",
    "    lower.append(np.nan)\n",
    "for row in crypto.iterrows():\n",
    "    if row[0] < window_size:\n",
    "        continue\n",
    "#     print(row[0])\n",
    "    mean = np.mean(crypto.iloc[(row[0]-window_size):row[0]]['close'])\n",
    "    ma.append(mean)\n",
    "    std = np.std(crypto.iloc[(row[0]-window_size):row[0]]['close'])\n",
    "    upper.append((mean+std*2))\n",
    "    lower.append((mean-std*2)) "
   ]
  },
  {
   "cell_type": "code",
   "execution_count": 2007,
   "metadata": {},
   "outputs": [
    {
     "data": {
      "text/plain": [
       "1827"
      ]
     },
     "execution_count": 2007,
     "metadata": {},
     "output_type": "execute_result"
    }
   ],
   "source": [
    "len(upper)"
   ]
  },
  {
   "cell_type": "code",
   "execution_count": 2008,
   "metadata": {},
   "outputs": [],
   "source": [
    "crypto['ma20'] = ma\n",
    "crypto['upper'] = upper\n",
    "crypto['lower'] = lower"
   ]
  },
  {
   "cell_type": "code",
   "execution_count": 2009,
   "metadata": {},
   "outputs": [
    {
     "data": {
      "text/html": [
       "<div>\n",
       "<style scoped>\n",
       "    .dataframe tbody tr th:only-of-type {\n",
       "        vertical-align: middle;\n",
       "    }\n",
       "\n",
       "    .dataframe tbody tr th {\n",
       "        vertical-align: top;\n",
       "    }\n",
       "\n",
       "    .dataframe thead th {\n",
       "        text-align: right;\n",
       "    }\n",
       "</style>\n",
       "<table border=\"1\" class=\"dataframe\">\n",
       "  <thead>\n",
       "    <tr style=\"text-align: right;\">\n",
       "      <th></th>\n",
       "      <th>date</th>\n",
       "      <th>open</th>\n",
       "      <th>high</th>\n",
       "      <th>low</th>\n",
       "      <th>close</th>\n",
       "      <th>volume</th>\n",
       "      <th>next_close_3</th>\n",
       "      <th>ma20</th>\n",
       "      <th>upper</th>\n",
       "      <th>lower</th>\n",
       "    </tr>\n",
       "  </thead>\n",
       "  <tbody>\n",
       "    <tr>\n",
       "      <th>0</th>\n",
       "      <td>2016-07-16</td>\n",
       "      <td>11.9194</td>\n",
       "      <td>11.9359</td>\n",
       "      <td>11.59240</td>\n",
       "      <td>11.65280</td>\n",
       "      <td>10445700.0</td>\n",
       "      <td>11.61910</td>\n",
       "      <td>NaN</td>\n",
       "      <td>NaN</td>\n",
       "      <td>NaN</td>\n",
       "    </tr>\n",
       "    <tr>\n",
       "      <th>1</th>\n",
       "      <td>2016-07-17</td>\n",
       "      <td>11.6235</td>\n",
       "      <td>11.6703</td>\n",
       "      <td>11.00740</td>\n",
       "      <td>11.15870</td>\n",
       "      <td>17921600.0</td>\n",
       "      <td>12.45060</td>\n",
       "      <td>NaN</td>\n",
       "      <td>NaN</td>\n",
       "      <td>NaN</td>\n",
       "    </tr>\n",
       "    <tr>\n",
       "      <th>2</th>\n",
       "      <td>2016-07-18</td>\n",
       "      <td>11.1730</td>\n",
       "      <td>11.6101</td>\n",
       "      <td>10.94830</td>\n",
       "      <td>11.03440</td>\n",
       "      <td>15931900.0</td>\n",
       "      <td>12.65070</td>\n",
       "      <td>NaN</td>\n",
       "      <td>NaN</td>\n",
       "      <td>NaN</td>\n",
       "    </tr>\n",
       "    <tr>\n",
       "      <th>3</th>\n",
       "      <td>2016-07-19</td>\n",
       "      <td>11.0466</td>\n",
       "      <td>12.0139</td>\n",
       "      <td>11.01030</td>\n",
       "      <td>11.61910</td>\n",
       "      <td>21730000.0</td>\n",
       "      <td>14.66190</td>\n",
       "      <td>NaN</td>\n",
       "      <td>NaN</td>\n",
       "      <td>NaN</td>\n",
       "    </tr>\n",
       "    <tr>\n",
       "      <th>4</th>\n",
       "      <td>2016-07-20</td>\n",
       "      <td>11.5902</td>\n",
       "      <td>12.9914</td>\n",
       "      <td>11.56690</td>\n",
       "      <td>12.45060</td>\n",
       "      <td>60226100.0</td>\n",
       "      <td>14.29970</td>\n",
       "      <td>NaN</td>\n",
       "      <td>NaN</td>\n",
       "      <td>NaN</td>\n",
       "    </tr>\n",
       "    <tr>\n",
       "      <th>5</th>\n",
       "      <td>2016-07-21</td>\n",
       "      <td>12.4601</td>\n",
       "      <td>12.7103</td>\n",
       "      <td>11.99370</td>\n",
       "      <td>12.65070</td>\n",
       "      <td>24636900.0</td>\n",
       "      <td>12.74950</td>\n",
       "      <td>NaN</td>\n",
       "      <td>NaN</td>\n",
       "      <td>NaN</td>\n",
       "    </tr>\n",
       "    <tr>\n",
       "      <th>6</th>\n",
       "      <td>2016-07-22</td>\n",
       "      <td>12.6575</td>\n",
       "      <td>14.8134</td>\n",
       "      <td>12.53990</td>\n",
       "      <td>14.66190</td>\n",
       "      <td>74779504.0</td>\n",
       "      <td>13.83610</td>\n",
       "      <td>NaN</td>\n",
       "      <td>NaN</td>\n",
       "      <td>NaN</td>\n",
       "    </tr>\n",
       "    <tr>\n",
       "      <th>7</th>\n",
       "      <td>2016-07-23</td>\n",
       "      <td>14.6655</td>\n",
       "      <td>14.8989</td>\n",
       "      <td>14.04970</td>\n",
       "      <td>14.29970</td>\n",
       "      <td>32489700.0</td>\n",
       "      <td>11.98950</td>\n",
       "      <td>NaN</td>\n",
       "      <td>NaN</td>\n",
       "      <td>NaN</td>\n",
       "    </tr>\n",
       "    <tr>\n",
       "      <th>8</th>\n",
       "      <td>2016-07-24</td>\n",
       "      <td>14.2958</td>\n",
       "      <td>14.4374</td>\n",
       "      <td>12.31610</td>\n",
       "      <td>12.74950</td>\n",
       "      <td>77750800.0</td>\n",
       "      <td>12.97280</td>\n",
       "      <td>NaN</td>\n",
       "      <td>NaN</td>\n",
       "      <td>NaN</td>\n",
       "    </tr>\n",
       "    <tr>\n",
       "      <th>9</th>\n",
       "      <td>2016-07-25</td>\n",
       "      <td>12.7434</td>\n",
       "      <td>13.8570</td>\n",
       "      <td>12.68380</td>\n",
       "      <td>13.83610</td>\n",
       "      <td>36673800.0</td>\n",
       "      <td>12.84360</td>\n",
       "      <td>NaN</td>\n",
       "      <td>NaN</td>\n",
       "      <td>NaN</td>\n",
       "    </tr>\n",
       "    <tr>\n",
       "      <th>10</th>\n",
       "      <td>2016-07-26</td>\n",
       "      <td>13.8161</td>\n",
       "      <td>13.8511</td>\n",
       "      <td>11.72720</td>\n",
       "      <td>11.98950</td>\n",
       "      <td>94428800.0</td>\n",
       "      <td>12.79460</td>\n",
       "      <td>NaN</td>\n",
       "      <td>NaN</td>\n",
       "      <td>NaN</td>\n",
       "    </tr>\n",
       "    <tr>\n",
       "      <th>11</th>\n",
       "      <td>2016-07-27</td>\n",
       "      <td>12.0505</td>\n",
       "      <td>13.3119</td>\n",
       "      <td>11.83570</td>\n",
       "      <td>12.97280</td>\n",
       "      <td>58278800.0</td>\n",
       "      <td>12.46100</td>\n",
       "      <td>NaN</td>\n",
       "      <td>NaN</td>\n",
       "      <td>NaN</td>\n",
       "    </tr>\n",
       "    <tr>\n",
       "      <th>12</th>\n",
       "      <td>2016-07-28</td>\n",
       "      <td>12.9791</td>\n",
       "      <td>12.9882</td>\n",
       "      <td>12.49270</td>\n",
       "      <td>12.84360</td>\n",
       "      <td>24603900.0</td>\n",
       "      <td>11.87590</td>\n",
       "      <td>NaN</td>\n",
       "      <td>NaN</td>\n",
       "      <td>NaN</td>\n",
       "    </tr>\n",
       "    <tr>\n",
       "      <th>13</th>\n",
       "      <td>2016-07-29</td>\n",
       "      <td>12.8364</td>\n",
       "      <td>12.8706</td>\n",
       "      <td>12.55420</td>\n",
       "      <td>12.79460</td>\n",
       "      <td>14082300.0</td>\n",
       "      <td>10.94160</td>\n",
       "      <td>NaN</td>\n",
       "      <td>NaN</td>\n",
       "      <td>NaN</td>\n",
       "    </tr>\n",
       "    <tr>\n",
       "      <th>14</th>\n",
       "      <td>2016-07-30</td>\n",
       "      <td>12.7974</td>\n",
       "      <td>12.8013</td>\n",
       "      <td>12.46100</td>\n",
       "      <td>12.46100</td>\n",
       "      <td>9047810.0</td>\n",
       "      <td>8.78728</td>\n",
       "      <td>NaN</td>\n",
       "      <td>NaN</td>\n",
       "      <td>NaN</td>\n",
       "    </tr>\n",
       "    <tr>\n",
       "      <th>15</th>\n",
       "      <td>2016-07-31</td>\n",
       "      <td>12.4397</td>\n",
       "      <td>12.5098</td>\n",
       "      <td>11.54720</td>\n",
       "      <td>11.87590</td>\n",
       "      <td>25441400.0</td>\n",
       "      <td>10.29390</td>\n",
       "      <td>NaN</td>\n",
       "      <td>NaN</td>\n",
       "      <td>NaN</td>\n",
       "    </tr>\n",
       "    <tr>\n",
       "      <th>16</th>\n",
       "      <td>2016-08-01</td>\n",
       "      <td>11.8948</td>\n",
       "      <td>12.0137</td>\n",
       "      <td>10.94160</td>\n",
       "      <td>10.94160</td>\n",
       "      <td>23999500.0</td>\n",
       "      <td>11.04280</td>\n",
       "      <td>NaN</td>\n",
       "      <td>NaN</td>\n",
       "      <td>NaN</td>\n",
       "    </tr>\n",
       "    <tr>\n",
       "      <th>17</th>\n",
       "      <td>2016-08-02</td>\n",
       "      <td>10.9485</td>\n",
       "      <td>11.1372</td>\n",
       "      <td>8.20098</td>\n",
       "      <td>8.78728</td>\n",
       "      <td>88803296.0</td>\n",
       "      <td>10.92540</td>\n",
       "      <td>NaN</td>\n",
       "      <td>NaN</td>\n",
       "      <td>NaN</td>\n",
       "    </tr>\n",
       "    <tr>\n",
       "      <th>18</th>\n",
       "      <td>2016-08-03</td>\n",
       "      <td>8.8768</td>\n",
       "      <td>10.4180</td>\n",
       "      <td>8.87680</td>\n",
       "      <td>10.29390</td>\n",
       "      <td>53979400.0</td>\n",
       "      <td>10.88110</td>\n",
       "      <td>NaN</td>\n",
       "      <td>NaN</td>\n",
       "      <td>NaN</td>\n",
       "    </tr>\n",
       "    <tr>\n",
       "      <th>19</th>\n",
       "      <td>2016-08-04</td>\n",
       "      <td>10.3110</td>\n",
       "      <td>11.2912</td>\n",
       "      <td>10.15640</td>\n",
       "      <td>11.04280</td>\n",
       "      <td>38151400.0</td>\n",
       "      <td>10.91160</td>\n",
       "      <td>NaN</td>\n",
       "      <td>NaN</td>\n",
       "      <td>NaN</td>\n",
       "    </tr>\n",
       "  </tbody>\n",
       "</table>\n",
       "</div>"
      ],
      "text/plain": [
       "          date     open     high       low     close      volume  \\\n",
       "0   2016-07-16  11.9194  11.9359  11.59240  11.65280  10445700.0   \n",
       "1   2016-07-17  11.6235  11.6703  11.00740  11.15870  17921600.0   \n",
       "2   2016-07-18  11.1730  11.6101  10.94830  11.03440  15931900.0   \n",
       "3   2016-07-19  11.0466  12.0139  11.01030  11.61910  21730000.0   \n",
       "4   2016-07-20  11.5902  12.9914  11.56690  12.45060  60226100.0   \n",
       "5   2016-07-21  12.4601  12.7103  11.99370  12.65070  24636900.0   \n",
       "6   2016-07-22  12.6575  14.8134  12.53990  14.66190  74779504.0   \n",
       "7   2016-07-23  14.6655  14.8989  14.04970  14.29970  32489700.0   \n",
       "8   2016-07-24  14.2958  14.4374  12.31610  12.74950  77750800.0   \n",
       "9   2016-07-25  12.7434  13.8570  12.68380  13.83610  36673800.0   \n",
       "10  2016-07-26  13.8161  13.8511  11.72720  11.98950  94428800.0   \n",
       "11  2016-07-27  12.0505  13.3119  11.83570  12.97280  58278800.0   \n",
       "12  2016-07-28  12.9791  12.9882  12.49270  12.84360  24603900.0   \n",
       "13  2016-07-29  12.8364  12.8706  12.55420  12.79460  14082300.0   \n",
       "14  2016-07-30  12.7974  12.8013  12.46100  12.46100   9047810.0   \n",
       "15  2016-07-31  12.4397  12.5098  11.54720  11.87590  25441400.0   \n",
       "16  2016-08-01  11.8948  12.0137  10.94160  10.94160  23999500.0   \n",
       "17  2016-08-02  10.9485  11.1372   8.20098   8.78728  88803296.0   \n",
       "18  2016-08-03   8.8768  10.4180   8.87680  10.29390  53979400.0   \n",
       "19  2016-08-04  10.3110  11.2912  10.15640  11.04280  38151400.0   \n",
       "\n",
       "    next_close_3  ma20  upper  lower  \n",
       "0       11.61910   NaN    NaN    NaN  \n",
       "1       12.45060   NaN    NaN    NaN  \n",
       "2       12.65070   NaN    NaN    NaN  \n",
       "3       14.66190   NaN    NaN    NaN  \n",
       "4       14.29970   NaN    NaN    NaN  \n",
       "5       12.74950   NaN    NaN    NaN  \n",
       "6       13.83610   NaN    NaN    NaN  \n",
       "7       11.98950   NaN    NaN    NaN  \n",
       "8       12.97280   NaN    NaN    NaN  \n",
       "9       12.84360   NaN    NaN    NaN  \n",
       "10      12.79460   NaN    NaN    NaN  \n",
       "11      12.46100   NaN    NaN    NaN  \n",
       "12      11.87590   NaN    NaN    NaN  \n",
       "13      10.94160   NaN    NaN    NaN  \n",
       "14       8.78728   NaN    NaN    NaN  \n",
       "15      10.29390   NaN    NaN    NaN  \n",
       "16      11.04280   NaN    NaN    NaN  \n",
       "17      10.92540   NaN    NaN    NaN  \n",
       "18      10.88110   NaN    NaN    NaN  \n",
       "19      10.91160   NaN    NaN    NaN  "
      ]
     },
     "execution_count": 2009,
     "metadata": {},
     "output_type": "execute_result"
    }
   ],
   "source": [
    "crypto.head(20)"
   ]
  },
  {
   "cell_type": "code",
   "execution_count": 2010,
   "metadata": {},
   "outputs": [],
   "source": [
    "training_cols = []\n",
    "for col in crypto.columns.values:\n",
    "    if 'next' not in col and 'date' not in col and 'adj' not in col:\n",
    "        training_cols.append(col)"
   ]
  },
  {
   "cell_type": "code",
   "execution_count": 2011,
   "metadata": {},
   "outputs": [
    {
     "data": {
      "text/plain": [
       "['open', 'high', 'low', 'close', 'volume', 'ma20', 'upper', 'lower']"
      ]
     },
     "execution_count": 2011,
     "metadata": {},
     "output_type": "execute_result"
    }
   ],
   "source": [
    "training_cols"
   ]
  },
  {
   "cell_type": "code",
   "execution_count": 2012,
   "metadata": {},
   "outputs": [],
   "source": [
    "og_crypto = crypto.copy()"
   ]
  },
  {
   "cell_type": "code",
   "execution_count": 2013,
   "metadata": {},
   "outputs": [],
   "source": [
    "crypto = crypto.dropna()"
   ]
  },
  {
   "cell_type": "code",
   "execution_count": 2014,
   "metadata": {},
   "outputs": [],
   "source": [
    "def train_models(df, label,training_cols, time_steps):\n",
    "    scaler = StandardScaler()\n",
    "#     df[label] = scaler.fit_transform(df[[label]])\n",
    "#     for col in training_cols:\n",
    "#         df[col] = scaler.transform(df[[col]])\n",
    "    X = df[training_cols].values\n",
    "    y = df[label]\n",
    "    X_train, X_test, y_train, y_test = train_test_split(X, y, train_size=0.8)\n",
    "    output = compare_rg(X_train, y_train, X_test, y_test, time_steps)\n",
    "    return output, scaler"
   ]
  },
  {
   "cell_type": "code",
   "execution_count": 2015,
   "metadata": {},
   "outputs": [],
   "source": [
    "def compare_rg(X_train, y_train, X_test, y_test, time_steps):\n",
    "    classifiers = {\n",
    "        'XGBR': XGBRegressor(),\n",
    "#         'NN': neural_net(X_train.shape, time_steps)\n",
    "    }\n",
    "\n",
    "    outputs = {\n",
    "        'XGBR': [],\n",
    "#         'NN': []\n",
    "    }\n",
    "    for model in classifiers:\n",
    "        if model == 'NN':            \n",
    "            algo = classifiers[model]\n",
    "            X_train, y_train = create_dataset(X_train, y_train, time_steps)\n",
    "            X_test, y_test = create_dataset(X_test, y_test, time_steps)\n",
    "            algo.fit(X_train, y_train, X_test, y_test)\n",
    "        else:\n",
    "            algo = classifiers[model]\n",
    "            algo.fit(X_train, y_train)\n",
    "            y_predict = algo.predict(X_test)\n",
    "            print(\" \")\n",
    "            print(model, ': ',mse(y_test, y_predict))\n",
    "        for output in outputs:\n",
    "            if output == model:\n",
    "                outputs[output] = algo\n",
    "        print('')\n",
    "    return outputs"
   ]
  },
  {
   "cell_type": "code",
   "execution_count": 2016,
   "metadata": {},
   "outputs": [],
   "source": [
    "#https://machinelearningmastery.com/use-features-lstm-networks-time-series-forecasting/\n",
    "# https://www.kdnuggets.com/2018/11/keras-long-short-term-memory-lstm-model-predict-stock-prices.html\n",
    "class neural_net:\n",
    "    def __init__(self, shape_input, time_steps):\n",
    "        self.shape_input = shape_input\n",
    "        self.model = models.Sequential()\n",
    "        self.batch_size = 32\n",
    "        self.model.add(layers.Bidirectional(\n",
    "            layers.LSTM(units=8, input_shape=(time_steps, shape_input[1]), return_sequences=False)\n",
    "        ))\n",
    "        self.model.add(layers.Dropout(0.2, name='dropout_0'))\n",
    "        self.model.add(layers.Dense(4, activation='relu'))\n",
    "        self.model.add(layers.Dense(1, activation='relu'))\n",
    "        self.model.compile(optimizer='adam', loss='mean_squared_error')\n",
    "#         print(self.model.summary())\n",
    "\n",
    "    \n",
    "    def fit(self, X_train, y_train, X_test, y_test):\n",
    "        self.model.fit(x=X_train, y=y_train, batch_size = self.batch_size, epochs=50, shuffle=False, validation_split=0.1)\n",
    "        evaluation = self.model.evaluate(X_test, y_test)\n",
    "        print(evaluation)\n",
    "    \n",
    "    def predict(self, Xnew):\n",
    "        yNew = self.model.predict_classes(Xnew)\n",
    "        return yNew"
   ]
  },
  {
   "cell_type": "code",
   "execution_count": 2017,
   "metadata": {},
   "outputs": [],
   "source": [
    "def create_dataset(X, y, time_steps = 20):\n",
    "    y = y.values\n",
    "    Xs, ys = [] , []\n",
    "    for i in range(len(X) - time_steps):\n",
    "        v = X[i: (i+time_steps)]\n",
    "        Xs.append(v)\n",
    "        ys.append(y[(i+time_steps)])\n",
    "    return np.array(Xs), np.array(ys)"
   ]
  },
  {
   "cell_type": "code",
   "execution_count": 2018,
   "metadata": {},
   "outputs": [
    {
     "name": "stdout",
     "output_type": "stream",
     "text": [
      " \n",
      "XGBR :  4102.156079749949\n",
      "\n"
     ]
    }
   ],
   "source": [
    "output, scaler = train_models(crypto, output_label,training_cols, window_size)"
   ]
  },
  {
   "cell_type": "code",
   "execution_count": 2019,
   "metadata": {},
   "outputs": [],
   "source": [
    "model = output['XGBR']"
   ]
  },
  {
   "cell_type": "code",
   "execution_count": 2020,
   "metadata": {},
   "outputs": [],
   "source": [
    "crypto = og_crypto.copy()"
   ]
  },
  {
   "cell_type": "code",
   "execution_count": 2021,
   "metadata": {},
   "outputs": [],
   "source": [
    "crypto['predicted_close'] = model.predict(crypto[training_cols].values)"
   ]
  },
  {
   "cell_type": "code",
   "execution_count": 2022,
   "metadata": {},
   "outputs": [],
   "source": [
    "crypto = crypto.tail(50)"
   ]
  },
  {
   "cell_type": "code",
   "execution_count": 2023,
   "metadata": {},
   "outputs": [],
   "source": [
    "for i in range(future_estim):\n",
    "    crypto = crypto.append({'date': np.nan}, ignore_index=True)"
   ]
  },
  {
   "cell_type": "code",
   "execution_count": 2024,
   "metadata": {},
   "outputs": [],
   "source": [
    "dates = []\n",
    "for date in crypto['date']:\n",
    "    if date is np.nan:\n",
    "        prev_date += datetime.timedelta(days=1)\n",
    "        dates.append(prev_date)\n",
    "    else:\n",
    "        date_list = date.split('-')\n",
    "        date = datetime.datetime(year=int(date_list[0]), month=int(date_list[1]), day=int(date_list[2]))\n",
    "        dates.append(date)\n",
    "        prev_date = date"
   ]
  },
  {
   "cell_type": "code",
   "execution_count": 2025,
   "metadata": {},
   "outputs": [],
   "source": [
    "crypto['date'] = dates"
   ]
  },
  {
   "cell_type": "code",
   "execution_count": 2026,
   "metadata": {},
   "outputs": [],
   "source": [
    "crypto.dropna(subset=['date'], inplace=True)"
   ]
  },
  {
   "cell_type": "code",
   "execution_count": 2027,
   "metadata": {},
   "outputs": [
    {
     "data": {
      "text/html": [
       "<div>\n",
       "<style scoped>\n",
       "    .dataframe tbody tr th:only-of-type {\n",
       "        vertical-align: middle;\n",
       "    }\n",
       "\n",
       "    .dataframe tbody tr th {\n",
       "        vertical-align: top;\n",
       "    }\n",
       "\n",
       "    .dataframe thead th {\n",
       "        text-align: right;\n",
       "    }\n",
       "</style>\n",
       "<table border=\"1\" class=\"dataframe\">\n",
       "  <thead>\n",
       "    <tr style=\"text-align: right;\">\n",
       "      <th></th>\n",
       "      <th>date</th>\n",
       "      <th>open</th>\n",
       "      <th>high</th>\n",
       "      <th>low</th>\n",
       "      <th>close</th>\n",
       "      <th>volume</th>\n",
       "      <th>next_close_3</th>\n",
       "      <th>ma20</th>\n",
       "      <th>upper</th>\n",
       "      <th>lower</th>\n",
       "      <th>predicted_close</th>\n",
       "    </tr>\n",
       "  </thead>\n",
       "  <tbody>\n",
       "    <tr>\n",
       "      <th>43</th>\n",
       "      <td>2021-07-10</td>\n",
       "      <td>2146.999756</td>\n",
       "      <td>2190.124023</td>\n",
       "      <td>2081.923584</td>\n",
       "      <td>2111.403564</td>\n",
       "      <td>1.758154e+10</td>\n",
       "      <td>1940.083984</td>\n",
       "      <td>2102.045300</td>\n",
       "      <td>2425.454436</td>\n",
       "      <td>1778.636165</td>\n",
       "      <td>2145.569580</td>\n",
       "    </tr>\n",
       "    <tr>\n",
       "      <th>44</th>\n",
       "      <td>2021-07-11</td>\n",
       "      <td>2110.875732</td>\n",
       "      <td>2172.653320</td>\n",
       "      <td>2083.803711</td>\n",
       "      <td>2139.664795</td>\n",
       "      <td>1.470539e+10</td>\n",
       "      <td>1994.331299</td>\n",
       "      <td>2095.297253</td>\n",
       "      <td>2411.940954</td>\n",
       "      <td>1778.653553</td>\n",
       "      <td>1996.184204</td>\n",
       "    </tr>\n",
       "    <tr>\n",
       "      <th>45</th>\n",
       "      <td>2021-07-12</td>\n",
       "      <td>2140.506836</td>\n",
       "      <td>2167.710205</td>\n",
       "      <td>2011.018921</td>\n",
       "      <td>2036.721069</td>\n",
       "      <td>1.776813e+10</td>\n",
       "      <td>1911.175659</td>\n",
       "      <td>2107.858118</td>\n",
       "      <td>2410.295656</td>\n",
       "      <td>1805.420579</td>\n",
       "      <td>1908.963135</td>\n",
       "    </tr>\n",
       "    <tr>\n",
       "      <th>46</th>\n",
       "      <td>2021-07-13</td>\n",
       "      <td>2034.098389</td>\n",
       "      <td>2040.693604</td>\n",
       "      <td>1922.577881</td>\n",
       "      <td>1940.083984</td>\n",
       "      <td>1.662163e+10</td>\n",
       "      <td>1898.813843</td>\n",
       "      <td>2115.946667</td>\n",
       "      <td>2401.200292</td>\n",
       "      <td>1830.693043</td>\n",
       "      <td>1899.505615</td>\n",
       "    </tr>\n",
       "    <tr>\n",
       "      <th>47</th>\n",
       "      <td>2021-07-14</td>\n",
       "      <td>1941.167847</td>\n",
       "      <td>2015.107422</td>\n",
       "      <td>1869.223145</td>\n",
       "      <td>1994.331299</td>\n",
       "      <td>1.734282e+10</td>\n",
       "      <td>NaN</td>\n",
       "      <td>2113.464050</td>\n",
       "      <td>2403.885647</td>\n",
       "      <td>1823.042454</td>\n",
       "      <td>2001.277466</td>\n",
       "    </tr>\n",
       "    <tr>\n",
       "      <th>48</th>\n",
       "      <td>2021-07-15</td>\n",
       "      <td>1994.712036</td>\n",
       "      <td>2037.742554</td>\n",
       "      <td>1883.272217</td>\n",
       "      <td>1911.175659</td>\n",
       "      <td>1.568809e+10</td>\n",
       "      <td>NaN</td>\n",
       "      <td>2113.757800</td>\n",
       "      <td>2403.684504</td>\n",
       "      <td>1823.831097</td>\n",
       "      <td>1964.385498</td>\n",
       "    </tr>\n",
       "    <tr>\n",
       "      <th>49</th>\n",
       "      <td>2021-07-16</td>\n",
       "      <td>1913.846558</td>\n",
       "      <td>1958.032104</td>\n",
       "      <td>1856.196777</td>\n",
       "      <td>1898.813843</td>\n",
       "      <td>1.518137e+10</td>\n",
       "      <td>NaN</td>\n",
       "      <td>2118.655719</td>\n",
       "      <td>2390.877172</td>\n",
       "      <td>1846.434266</td>\n",
       "      <td>1937.826294</td>\n",
       "    </tr>\n",
       "    <tr>\n",
       "      <th>50</th>\n",
       "      <td>2021-07-17</td>\n",
       "      <td>NaN</td>\n",
       "      <td>NaN</td>\n",
       "      <td>NaN</td>\n",
       "      <td>NaN</td>\n",
       "      <td>NaN</td>\n",
       "      <td>NaN</td>\n",
       "      <td>NaN</td>\n",
       "      <td>NaN</td>\n",
       "      <td>NaN</td>\n",
       "      <td>NaN</td>\n",
       "    </tr>\n",
       "    <tr>\n",
       "      <th>51</th>\n",
       "      <td>2021-07-18</td>\n",
       "      <td>NaN</td>\n",
       "      <td>NaN</td>\n",
       "      <td>NaN</td>\n",
       "      <td>NaN</td>\n",
       "      <td>NaN</td>\n",
       "      <td>NaN</td>\n",
       "      <td>NaN</td>\n",
       "      <td>NaN</td>\n",
       "      <td>NaN</td>\n",
       "      <td>NaN</td>\n",
       "    </tr>\n",
       "    <tr>\n",
       "      <th>52</th>\n",
       "      <td>2021-07-19</td>\n",
       "      <td>NaN</td>\n",
       "      <td>NaN</td>\n",
       "      <td>NaN</td>\n",
       "      <td>NaN</td>\n",
       "      <td>NaN</td>\n",
       "      <td>NaN</td>\n",
       "      <td>NaN</td>\n",
       "      <td>NaN</td>\n",
       "      <td>NaN</td>\n",
       "      <td>NaN</td>\n",
       "    </tr>\n",
       "  </tbody>\n",
       "</table>\n",
       "</div>"
      ],
      "text/plain": [
       "         date         open         high          low        close  \\\n",
       "43 2021-07-10  2146.999756  2190.124023  2081.923584  2111.403564   \n",
       "44 2021-07-11  2110.875732  2172.653320  2083.803711  2139.664795   \n",
       "45 2021-07-12  2140.506836  2167.710205  2011.018921  2036.721069   \n",
       "46 2021-07-13  2034.098389  2040.693604  1922.577881  1940.083984   \n",
       "47 2021-07-14  1941.167847  2015.107422  1869.223145  1994.331299   \n",
       "48 2021-07-15  1994.712036  2037.742554  1883.272217  1911.175659   \n",
       "49 2021-07-16  1913.846558  1958.032104  1856.196777  1898.813843   \n",
       "50 2021-07-17          NaN          NaN          NaN          NaN   \n",
       "51 2021-07-18          NaN          NaN          NaN          NaN   \n",
       "52 2021-07-19          NaN          NaN          NaN          NaN   \n",
       "\n",
       "          volume  next_close_3         ma20        upper        lower  \\\n",
       "43  1.758154e+10   1940.083984  2102.045300  2425.454436  1778.636165   \n",
       "44  1.470539e+10   1994.331299  2095.297253  2411.940954  1778.653553   \n",
       "45  1.776813e+10   1911.175659  2107.858118  2410.295656  1805.420579   \n",
       "46  1.662163e+10   1898.813843  2115.946667  2401.200292  1830.693043   \n",
       "47  1.734282e+10           NaN  2113.464050  2403.885647  1823.042454   \n",
       "48  1.568809e+10           NaN  2113.757800  2403.684504  1823.831097   \n",
       "49  1.518137e+10           NaN  2118.655719  2390.877172  1846.434266   \n",
       "50           NaN           NaN          NaN          NaN          NaN   \n",
       "51           NaN           NaN          NaN          NaN          NaN   \n",
       "52           NaN           NaN          NaN          NaN          NaN   \n",
       "\n",
       "    predicted_close  \n",
       "43      2145.569580  \n",
       "44      1996.184204  \n",
       "45      1908.963135  \n",
       "46      1899.505615  \n",
       "47      2001.277466  \n",
       "48      1964.385498  \n",
       "49      1937.826294  \n",
       "50              NaN  \n",
       "51              NaN  \n",
       "52              NaN  "
      ]
     },
     "execution_count": 2027,
     "metadata": {},
     "output_type": "execute_result"
    }
   ],
   "source": [
    "crypto.tail(10)"
   ]
  },
  {
   "cell_type": "code",
   "execution_count": 2028,
   "metadata": {},
   "outputs": [],
   "source": [
    "crypto[output_label] = crypto[output_label].shift(future_estim)"
   ]
  },
  {
   "cell_type": "code",
   "execution_count": 2029,
   "metadata": {},
   "outputs": [],
   "source": [
    "crypto['predicted_close'] = crypto['predicted_close'].shift(future_estim*1)"
   ]
  },
  {
   "cell_type": "code",
   "execution_count": 2030,
   "metadata": {},
   "outputs": [
    {
     "data": {
      "text/html": [
       "<div>\n",
       "<style scoped>\n",
       "    .dataframe tbody tr th:only-of-type {\n",
       "        vertical-align: middle;\n",
       "    }\n",
       "\n",
       "    .dataframe tbody tr th {\n",
       "        vertical-align: top;\n",
       "    }\n",
       "\n",
       "    .dataframe thead th {\n",
       "        text-align: right;\n",
       "    }\n",
       "</style>\n",
       "<table border=\"1\" class=\"dataframe\">\n",
       "  <thead>\n",
       "    <tr style=\"text-align: right;\">\n",
       "      <th></th>\n",
       "      <th>date</th>\n",
       "      <th>open</th>\n",
       "      <th>high</th>\n",
       "      <th>low</th>\n",
       "      <th>close</th>\n",
       "      <th>volume</th>\n",
       "      <th>next_close_3</th>\n",
       "      <th>ma20</th>\n",
       "      <th>upper</th>\n",
       "      <th>lower</th>\n",
       "      <th>predicted_close</th>\n",
       "    </tr>\n",
       "  </thead>\n",
       "  <tbody>\n",
       "    <tr>\n",
       "      <th>43</th>\n",
       "      <td>2021-07-10</td>\n",
       "      <td>2146.999756</td>\n",
       "      <td>2190.124023</td>\n",
       "      <td>2081.923584</td>\n",
       "      <td>2111.403564</td>\n",
       "      <td>1.758154e+10</td>\n",
       "      <td>2111.403564</td>\n",
       "      <td>2102.045300</td>\n",
       "      <td>2425.454436</td>\n",
       "      <td>1778.636165</td>\n",
       "      <td>2113.144043</td>\n",
       "    </tr>\n",
       "    <tr>\n",
       "      <th>44</th>\n",
       "      <td>2021-07-11</td>\n",
       "      <td>2110.875732</td>\n",
       "      <td>2172.653320</td>\n",
       "      <td>2083.803711</td>\n",
       "      <td>2139.664795</td>\n",
       "      <td>1.470539e+10</td>\n",
       "      <td>2139.664795</td>\n",
       "      <td>2095.297253</td>\n",
       "      <td>2411.940954</td>\n",
       "      <td>1778.653553</td>\n",
       "      <td>2142.067871</td>\n",
       "    </tr>\n",
       "    <tr>\n",
       "      <th>45</th>\n",
       "      <td>2021-07-12</td>\n",
       "      <td>2140.506836</td>\n",
       "      <td>2167.710205</td>\n",
       "      <td>2011.018921</td>\n",
       "      <td>2036.721069</td>\n",
       "      <td>1.776813e+10</td>\n",
       "      <td>2036.721069</td>\n",
       "      <td>2107.858118</td>\n",
       "      <td>2410.295656</td>\n",
       "      <td>1805.420579</td>\n",
       "      <td>2175.522461</td>\n",
       "    </tr>\n",
       "    <tr>\n",
       "      <th>46</th>\n",
       "      <td>2021-07-13</td>\n",
       "      <td>2034.098389</td>\n",
       "      <td>2040.693604</td>\n",
       "      <td>1922.577881</td>\n",
       "      <td>1940.083984</td>\n",
       "      <td>1.662163e+10</td>\n",
       "      <td>1940.083984</td>\n",
       "      <td>2115.946667</td>\n",
       "      <td>2401.200292</td>\n",
       "      <td>1830.693043</td>\n",
       "      <td>2145.569580</td>\n",
       "    </tr>\n",
       "    <tr>\n",
       "      <th>47</th>\n",
       "      <td>2021-07-14</td>\n",
       "      <td>1941.167847</td>\n",
       "      <td>2015.107422</td>\n",
       "      <td>1869.223145</td>\n",
       "      <td>1994.331299</td>\n",
       "      <td>1.734282e+10</td>\n",
       "      <td>1994.331299</td>\n",
       "      <td>2113.464050</td>\n",
       "      <td>2403.885647</td>\n",
       "      <td>1823.042454</td>\n",
       "      <td>1996.184204</td>\n",
       "    </tr>\n",
       "    <tr>\n",
       "      <th>48</th>\n",
       "      <td>2021-07-15</td>\n",
       "      <td>1994.712036</td>\n",
       "      <td>2037.742554</td>\n",
       "      <td>1883.272217</td>\n",
       "      <td>1911.175659</td>\n",
       "      <td>1.568809e+10</td>\n",
       "      <td>1911.175659</td>\n",
       "      <td>2113.757800</td>\n",
       "      <td>2403.684504</td>\n",
       "      <td>1823.831097</td>\n",
       "      <td>1908.963135</td>\n",
       "    </tr>\n",
       "    <tr>\n",
       "      <th>49</th>\n",
       "      <td>2021-07-16</td>\n",
       "      <td>1913.846558</td>\n",
       "      <td>1958.032104</td>\n",
       "      <td>1856.196777</td>\n",
       "      <td>1898.813843</td>\n",
       "      <td>1.518137e+10</td>\n",
       "      <td>1898.813843</td>\n",
       "      <td>2118.655719</td>\n",
       "      <td>2390.877172</td>\n",
       "      <td>1846.434266</td>\n",
       "      <td>1899.505615</td>\n",
       "    </tr>\n",
       "    <tr>\n",
       "      <th>50</th>\n",
       "      <td>2021-07-17</td>\n",
       "      <td>NaN</td>\n",
       "      <td>NaN</td>\n",
       "      <td>NaN</td>\n",
       "      <td>NaN</td>\n",
       "      <td>NaN</td>\n",
       "      <td>NaN</td>\n",
       "      <td>NaN</td>\n",
       "      <td>NaN</td>\n",
       "      <td>NaN</td>\n",
       "      <td>2001.277466</td>\n",
       "    </tr>\n",
       "    <tr>\n",
       "      <th>51</th>\n",
       "      <td>2021-07-18</td>\n",
       "      <td>NaN</td>\n",
       "      <td>NaN</td>\n",
       "      <td>NaN</td>\n",
       "      <td>NaN</td>\n",
       "      <td>NaN</td>\n",
       "      <td>NaN</td>\n",
       "      <td>NaN</td>\n",
       "      <td>NaN</td>\n",
       "      <td>NaN</td>\n",
       "      <td>1964.385498</td>\n",
       "    </tr>\n",
       "    <tr>\n",
       "      <th>52</th>\n",
       "      <td>2021-07-19</td>\n",
       "      <td>NaN</td>\n",
       "      <td>NaN</td>\n",
       "      <td>NaN</td>\n",
       "      <td>NaN</td>\n",
       "      <td>NaN</td>\n",
       "      <td>NaN</td>\n",
       "      <td>NaN</td>\n",
       "      <td>NaN</td>\n",
       "      <td>NaN</td>\n",
       "      <td>1937.826294</td>\n",
       "    </tr>\n",
       "  </tbody>\n",
       "</table>\n",
       "</div>"
      ],
      "text/plain": [
       "         date         open         high          low        close  \\\n",
       "43 2021-07-10  2146.999756  2190.124023  2081.923584  2111.403564   \n",
       "44 2021-07-11  2110.875732  2172.653320  2083.803711  2139.664795   \n",
       "45 2021-07-12  2140.506836  2167.710205  2011.018921  2036.721069   \n",
       "46 2021-07-13  2034.098389  2040.693604  1922.577881  1940.083984   \n",
       "47 2021-07-14  1941.167847  2015.107422  1869.223145  1994.331299   \n",
       "48 2021-07-15  1994.712036  2037.742554  1883.272217  1911.175659   \n",
       "49 2021-07-16  1913.846558  1958.032104  1856.196777  1898.813843   \n",
       "50 2021-07-17          NaN          NaN          NaN          NaN   \n",
       "51 2021-07-18          NaN          NaN          NaN          NaN   \n",
       "52 2021-07-19          NaN          NaN          NaN          NaN   \n",
       "\n",
       "          volume  next_close_3         ma20        upper        lower  \\\n",
       "43  1.758154e+10   2111.403564  2102.045300  2425.454436  1778.636165   \n",
       "44  1.470539e+10   2139.664795  2095.297253  2411.940954  1778.653553   \n",
       "45  1.776813e+10   2036.721069  2107.858118  2410.295656  1805.420579   \n",
       "46  1.662163e+10   1940.083984  2115.946667  2401.200292  1830.693043   \n",
       "47  1.734282e+10   1994.331299  2113.464050  2403.885647  1823.042454   \n",
       "48  1.568809e+10   1911.175659  2113.757800  2403.684504  1823.831097   \n",
       "49  1.518137e+10   1898.813843  2118.655719  2390.877172  1846.434266   \n",
       "50           NaN           NaN          NaN          NaN          NaN   \n",
       "51           NaN           NaN          NaN          NaN          NaN   \n",
       "52           NaN           NaN          NaN          NaN          NaN   \n",
       "\n",
       "    predicted_close  \n",
       "43      2113.144043  \n",
       "44      2142.067871  \n",
       "45      2175.522461  \n",
       "46      2145.569580  \n",
       "47      1996.184204  \n",
       "48      1908.963135  \n",
       "49      1899.505615  \n",
       "50      2001.277466  \n",
       "51      1964.385498  \n",
       "52      1937.826294  "
      ]
     },
     "execution_count": 2030,
     "metadata": {},
     "output_type": "execute_result"
    }
   ],
   "source": [
    "crypto.tail(10)"
   ]
  },
  {
   "cell_type": "code",
   "execution_count": 2031,
   "metadata": {},
   "outputs": [],
   "source": [
    "# y_true = crypto['close'].tolist()\n",
    "y_forecast = crypto[output_label].tolist()\n",
    "y_predict = crypto['predicted_close'].tolist()\n",
    "y_ma = crypto['ma20'].tolist()\n",
    "y_upper = crypto['upper'].tolist()\n",
    "y_lower = crypto['lower'].tolist()\n",
    "x = crypto['date'].tolist()"
   ]
  },
  {
   "cell_type": "code",
   "execution_count": 2032,
   "metadata": {},
   "outputs": [
    {
     "data": {
      "image/png": "[encoded data removed]",
      "text/plain": [
       "<Figure size 2880x1440 with 1 Axes>"
      ]
     },
     "metadata": {
      "needs_background": "light"
     },
     "output_type": "display_data"
    }
   ],
   "source": [
    "fig = plt.figure(figsize=(40,20))\n",
    "plt.plot(x, y_predict, label='ETH-EST')\n",
    "# plt.plot(x, y_true, label='ETH')\n",
    "plt.plot(x, y_forecast, label='ETH')\n",
    "plt.plot(x, y_ma, label='20 Day MA')\n",
    "plt.plot(x, y_upper, label='Upper Bound')\n",
    "plt.plot(x, y_lower, label='Lower Bound')\n",
    "plt.legend()\n",
    "plt.grid(True)\n",
    "plt.show()"
   ]
  },
  {
   "cell_type": "code",
   "execution_count": 2033,
   "metadata": {},
   "outputs": [
    {
     "data": {
      "text/plain": [
       "['open', 'high', 'low', 'close', 'volume', 'ma20', 'upper', 'lower']"
      ]
     },
     "execution_count": 2033,
     "metadata": {},
     "output_type": "execute_result"
    }
   ],
   "source": [
    "training_cols"
   ]
  },
  {
   "cell_type": "code",
   "execution_count": 2034,
   "metadata": {},
   "outputs": [],
   "source": [
    "base_url = 'https://api.pro.coinbase.com'"
   ]
  },
  {
   "cell_type": "code",
   "execution_count": 2035,
   "metadata": {},
   "outputs": [],
   "source": [
    "products = '/products'"
   ]
  },
  {
   "cell_type": "code",
   "execution_count": 2036,
   "metadata": {},
   "outputs": [],
   "source": [
    "book = '/book?level='"
   ]
  },
  {
   "cell_type": "code",
   "execution_count": 2037,
   "metadata": {},
   "outputs": [],
   "source": [
    "stats = '/stats'"
   ]
  },
  {
   "cell_type": "code",
   "execution_count": 2038,
   "metadata": {},
   "outputs": [],
   "source": [
    "#Only shows best bid and ask\n",
    "level_1 = '1'\n",
    "#Only shows top 50 bids and asks\n",
    "level_2 = '2'\n",
    "#Shows all bids and asks\n",
    "level_3 = '3'"
   ]
  },
  {
   "cell_type": "code",
   "execution_count": 2039,
   "metadata": {},
   "outputs": [],
   "source": [
    "curr1 = 'ETH'\n",
    "curr2 = 'USD'\n",
    "pair = '/' + curr1 + '-' + curr2"
   ]
  },
  {
   "cell_type": "code",
   "execution_count": 2040,
   "metadata": {},
   "outputs": [],
   "source": [
    "response = requests.get(base_url+products+pair+stats).json()"
   ]
  },
  {
   "cell_type": "code",
   "execution_count": 2041,
   "metadata": {},
   "outputs": [
    {
     "data": {
      "text/plain": [
       "['open', 'high', 'low', 'close', 'volume', 'ma20', 'upper', 'lower']"
      ]
     },
     "execution_count": 2041,
     "metadata": {},
     "output_type": "execute_result"
    }
   ],
   "source": [
    "training_cols"
   ]
  },
  {
   "cell_type": "code",
   "execution_count": 2042,
   "metadata": {},
   "outputs": [
    {
     "data": {
      "text/plain": [
       "{'open': '1919.27',\n",
       " 'high': '1965.35',\n",
       " 'low': '1850.15',\n",
       " 'volume': '171732.80557635',\n",
       " 'last': '1899.8',\n",
       " 'volume_30day': '6755762.02860569'}"
      ]
     },
     "execution_count": 2042,
     "metadata": {},
     "output_type": "execute_result"
    }
   ],
   "source": [
    "response"
   ]
  },
  {
   "cell_type": "code",
   "execution_count": 2043,
   "metadata": {},
   "outputs": [],
   "source": [
    "to_eval = pd.DataFrame(response, index=[0])"
   ]
  },
  {
   "cell_type": "code",
   "execution_count": 2044,
   "metadata": {},
   "outputs": [],
   "source": [
    "to_eval.drop('volume_30day', axis=1, inplace=True)"
   ]
  },
  {
   "cell_type": "code",
   "execution_count": 2045,
   "metadata": {},
   "outputs": [],
   "source": [
    "to_eval.rename(columns={\n",
    "    'last': 'close'\n",
    "},inplace=True)"
   ]
  },
  {
   "cell_type": "code",
   "execution_count": 2046,
   "metadata": {},
   "outputs": [],
   "source": [
    "to_eval['ma20'] = np.mean(crypto.iloc[(crypto.shape[0]-window_size-1): (crypto.shape[0]-1)]['ma20'])"
   ]
  },
  {
   "cell_type": "code",
   "execution_count": 2047,
   "metadata": {},
   "outputs": [],
   "source": [
    "to_eval['upper'] = np.std(crypto.iloc[(crypto.shape[0]-window_size-1): (crypto.shape[0]-1)]['ma20'])*2 + np.mean(crypto.iloc[(crypto.shape[0]-window_size-1): (crypto.shape[0]-1)]['ma20'])"
   ]
  },
  {
   "cell_type": "code",
   "execution_count": 2048,
   "metadata": {},
   "outputs": [],
   "source": [
    "to_eval['lower'] = np.mean(crypto.iloc[(crypto.shape[0]-window_size-1): (crypto.shape[0]-1)]['ma20']) - np.std(crypto.iloc[(crypto.shape[0]-window_size-1): (crypto.shape[0]-1)]['ma20'])*2 "
   ]
  },
  {
   "cell_type": "code",
   "execution_count": 2049,
   "metadata": {},
   "outputs": [
    {
     "data": {
      "text/html": [
       "<div>\n",
       "<style scoped>\n",
       "    .dataframe tbody tr th:only-of-type {\n",
       "        vertical-align: middle;\n",
       "    }\n",
       "\n",
       "    .dataframe tbody tr th {\n",
       "        vertical-align: top;\n",
       "    }\n",
       "\n",
       "    .dataframe thead th {\n",
       "        text-align: right;\n",
       "    }\n",
       "</style>\n",
       "<table border=\"1\" class=\"dataframe\">\n",
       "  <thead>\n",
       "    <tr style=\"text-align: right;\">\n",
       "      <th></th>\n",
       "      <th>open</th>\n",
       "      <th>high</th>\n",
       "      <th>low</th>\n",
       "      <th>volume</th>\n",
       "      <th>close</th>\n",
       "      <th>ma20</th>\n",
       "      <th>upper</th>\n",
       "      <th>lower</th>\n",
       "    </tr>\n",
       "  </thead>\n",
       "  <tbody>\n",
       "    <tr>\n",
       "      <th>0</th>\n",
       "      <td>1919.27</td>\n",
       "      <td>1965.35</td>\n",
       "      <td>1850.15</td>\n",
       "      <td>171732.80557635</td>\n",
       "      <td>1899.8</td>\n",
       "      <td>2133.776151</td>\n",
       "      <td>2203.024757</td>\n",
       "      <td>2064.527546</td>\n",
       "    </tr>\n",
       "  </tbody>\n",
       "</table>\n",
       "</div>"
      ],
      "text/plain": [
       "      open     high      low           volume   close         ma20  \\\n",
       "0  1919.27  1965.35  1850.15  171732.80557635  1899.8  2133.776151   \n",
       "\n",
       "         upper        lower  \n",
       "0  2203.024757  2064.527546  "
      ]
     },
     "execution_count": 2049,
     "metadata": {},
     "output_type": "execute_result"
    }
   ],
   "source": [
    "to_eval"
   ]
  },
  {
   "cell_type": "code",
   "execution_count": 2050,
   "metadata": {},
   "outputs": [],
   "source": [
    "result = model.predict(to_eval[training_cols].values)"
   ]
  },
  {
   "cell_type": "code",
   "execution_count": 2051,
   "metadata": {},
   "outputs": [],
   "source": [
    "to_eval['predicted_close'] = result[0]"
   ]
  },
  {
   "cell_type": "code",
   "execution_count": 2052,
   "metadata": {},
   "outputs": [],
   "source": [
    "crypto = crypto.append(to_eval)"
   ]
  },
  {
   "cell_type": "code",
   "execution_count": 2053,
   "metadata": {},
   "outputs": [],
   "source": [
    "crypto = crypto.reset_index()"
   ]
  },
  {
   "cell_type": "code",
   "execution_count": 2054,
   "metadata": {},
   "outputs": [
    {
     "data": {
      "text/html": [
       "<div>\n",
       "<style scoped>\n",
       "    .dataframe tbody tr th:only-of-type {\n",
       "        vertical-align: middle;\n",
       "    }\n",
       "\n",
       "    .dataframe tbody tr th {\n",
       "        vertical-align: top;\n",
       "    }\n",
       "\n",
       "    .dataframe thead th {\n",
       "        text-align: right;\n",
       "    }\n",
       "</style>\n",
       "<table border=\"1\" class=\"dataframe\">\n",
       "  <thead>\n",
       "    <tr style=\"text-align: right;\">\n",
       "      <th></th>\n",
       "      <th>index</th>\n",
       "      <th>date</th>\n",
       "      <th>open</th>\n",
       "      <th>high</th>\n",
       "      <th>low</th>\n",
       "      <th>close</th>\n",
       "      <th>volume</th>\n",
       "      <th>next_close_3</th>\n",
       "      <th>ma20</th>\n",
       "      <th>upper</th>\n",
       "      <th>lower</th>\n",
       "      <th>predicted_close</th>\n",
       "    </tr>\n",
       "  </thead>\n",
       "  <tbody>\n",
       "    <tr>\n",
       "      <th>49</th>\n",
       "      <td>49</td>\n",
       "      <td>2021-07-16</td>\n",
       "      <td>1913.85</td>\n",
       "      <td>1958.03</td>\n",
       "      <td>1856.2</td>\n",
       "      <td>1898.81</td>\n",
       "      <td>1.51814e+10</td>\n",
       "      <td>1898.813843</td>\n",
       "      <td>2118.655719</td>\n",
       "      <td>2390.877172</td>\n",
       "      <td>1846.434266</td>\n",
       "      <td>1899.505615</td>\n",
       "    </tr>\n",
       "    <tr>\n",
       "      <th>50</th>\n",
       "      <td>50</td>\n",
       "      <td>2021-07-17</td>\n",
       "      <td>NaN</td>\n",
       "      <td>NaN</td>\n",
       "      <td>NaN</td>\n",
       "      <td>NaN</td>\n",
       "      <td>NaN</td>\n",
       "      <td>NaN</td>\n",
       "      <td>NaN</td>\n",
       "      <td>NaN</td>\n",
       "      <td>NaN</td>\n",
       "      <td>2001.277466</td>\n",
       "    </tr>\n",
       "    <tr>\n",
       "      <th>51</th>\n",
       "      <td>51</td>\n",
       "      <td>2021-07-18</td>\n",
       "      <td>NaN</td>\n",
       "      <td>NaN</td>\n",
       "      <td>NaN</td>\n",
       "      <td>NaN</td>\n",
       "      <td>NaN</td>\n",
       "      <td>NaN</td>\n",
       "      <td>NaN</td>\n",
       "      <td>NaN</td>\n",
       "      <td>NaN</td>\n",
       "      <td>1964.385498</td>\n",
       "    </tr>\n",
       "    <tr>\n",
       "      <th>52</th>\n",
       "      <td>52</td>\n",
       "      <td>2021-07-19</td>\n",
       "      <td>NaN</td>\n",
       "      <td>NaN</td>\n",
       "      <td>NaN</td>\n",
       "      <td>NaN</td>\n",
       "      <td>NaN</td>\n",
       "      <td>NaN</td>\n",
       "      <td>NaN</td>\n",
       "      <td>NaN</td>\n",
       "      <td>NaN</td>\n",
       "      <td>1937.826294</td>\n",
       "    </tr>\n",
       "    <tr>\n",
       "      <th>53</th>\n",
       "      <td>0</td>\n",
       "      <td>NaT</td>\n",
       "      <td>1919.27</td>\n",
       "      <td>1965.35</td>\n",
       "      <td>1850.15</td>\n",
       "      <td>1899.8</td>\n",
       "      <td>171732.80557635</td>\n",
       "      <td>NaN</td>\n",
       "      <td>2133.776151</td>\n",
       "      <td>2203.024757</td>\n",
       "      <td>2064.527546</td>\n",
       "      <td>1919.255737</td>\n",
       "    </tr>\n",
       "  </tbody>\n",
       "</table>\n",
       "</div>"
      ],
      "text/plain": [
       "    index       date     open     high      low    close           volume  \\\n",
       "49     49 2021-07-16  1913.85  1958.03   1856.2  1898.81      1.51814e+10   \n",
       "50     50 2021-07-17      NaN      NaN      NaN      NaN              NaN   \n",
       "51     51 2021-07-18      NaN      NaN      NaN      NaN              NaN   \n",
       "52     52 2021-07-19      NaN      NaN      NaN      NaN              NaN   \n",
       "53      0        NaT  1919.27  1965.35  1850.15   1899.8  171732.80557635   \n",
       "\n",
       "    next_close_3         ma20        upper        lower  predicted_close  \n",
       "49   1898.813843  2118.655719  2390.877172  1846.434266      1899.505615  \n",
       "50           NaN          NaN          NaN          NaN      2001.277466  \n",
       "51           NaN          NaN          NaN          NaN      1964.385498  \n",
       "52           NaN          NaN          NaN          NaN      1937.826294  \n",
       "53           NaN  2133.776151  2203.024757  2064.527546      1919.255737  "
      ]
     },
     "execution_count": 2054,
     "metadata": {},
     "output_type": "execute_result"
    }
   ],
   "source": [
    "crypto.tail()"
   ]
  }
 ],
 "metadata": {
  "kernelspec": {
   "display_name": "Python 3",
   "language": "python",
   "name": "python3"
  },
  "language_info": {
   "codemirror_mode": {
    "name": "ipython",
    "version": 3
   },
   "file_extension": ".py",
   "mimetype": "text/x-python",
   "name": "python",
   "nbconvert_exporter": "python",
   "pygments_lexer": "ipython3",
   "version": "3.8.3"
  }
 },
 "nbformat": 4,
 "nbformat_minor": 4
}

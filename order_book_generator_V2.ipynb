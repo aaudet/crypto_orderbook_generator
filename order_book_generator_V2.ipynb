{
 "cells": [
  {
   "cell_type": "markdown",
   "metadata": {},
   "source": [
    "### TODO:\n",
    "- Chart with:\n",
    "    - Identify pivot points, and build systems that identify resistance and support lines \n",
    "    - Identify lines where the price closes and open, plot a line with low alpha and frequently lines will overlay to create a thicker line.\n",
    "\n",
    "- Make a method to be updating the orderbook every 5 minutes, and do live udpates: https://pythonprogramming.net/python-matplotlib-live-updating-graphs/\n",
    "    - Update rounding method to not always round down.\n",
    "    - Add in bollinger band lines and line for current price, and generates graph around current price with $500 bounds\n",
    "    - Post data to twitter for moolah\n",
    "- Create a method for viewing the charts by their order id's to see if its the same person generating orders. \n",
    "- Figure out how to calculate the number of BTC in circulation at Coinbase, and then use that as a basis to determine how much a price might drop by the change in value of the marketcap (https://www.quora.com/What-is-the-formula-to-calculate-a-price-of-a-cryptocurrency)\n",
    "- Work on the equity-AEI project\n",
    "- Get a model to use lagging indicators, and then use all of those values to forecast the price. Need to build the dataset over time. Collected every ten minutes? Need to look at the rate that I can request the full order book.\n",
    "- I'd want to try and forecast the price how far in the future? Maybe I need a forecasting model, or a timeseries model."
   ]
  },
  {
   "cell_type": "markdown",
   "metadata": {},
   "source": [
    "## Readings so far on using ML to estimate price:\n",
    "- How to do time series analyses in python: https://machinelearningmastery.com/arima-for-time-series-forecasting-with-python/\n",
    "- Should ML be used to forecast prices? : https://machinelearningmastery.com/findings-comparing-classical-and-machine-learning-methods-for-time-series-forecasting/ \n",
    "- How to not screw up using ML for forecasting: https://towardsdatascience.com/how-not-to-use-machine-learning-for-time-series-forecasting-avoiding-the-pitfalls-19f9d7adf424"
   ]
  },
  {
   "cell_type": "markdown",
   "metadata": {},
   "source": [
    "### TODO:\n",
    "- Create a twitter connection, so that everytime I run this order book,  it sends out a tweet. Or maybe make it iterate through a list of currencies. "
   ]
  },
  {
   "cell_type": "code",
   "execution_count": 72,
   "metadata": {
    "execution": {
     "iopub.execute_input": "2021-10-15T21:33:42.467337Z",
     "iopub.status.busy": "2021-10-15T21:33:42.466343Z",
     "iopub.status.idle": "2021-10-15T21:33:42.487294Z",
     "shell.execute_reply": "2021-10-15T21:33:42.486297Z",
     "shell.execute_reply.started": "2021-10-15T21:33:42.467337Z"
    }
   },
   "outputs": [],
   "source": [
    "import pandas as pd\n",
    "import numpy as np\n",
    "import requests\n",
    "import json\n",
    "import matplotlib.pyplot as plt"
   ]
  },
  {
   "cell_type": "code",
   "execution_count": 73,
   "metadata": {
    "execution": {
     "iopub.execute_input": "2021-10-15T21:33:42.489004Z",
     "iopub.status.busy": "2021-10-15T21:33:42.489004Z",
     "iopub.status.idle": "2021-10-15T21:33:42.495128Z",
     "shell.execute_reply": "2021-10-15T21:33:42.495128Z",
     "shell.execute_reply.started": "2021-10-15T21:33:42.489004Z"
    }
   },
   "outputs": [],
   "source": [
    "from datetime import datetime"
   ]
  },
  {
   "cell_type": "code",
   "execution_count": 74,
   "metadata": {
    "execution": {
     "iopub.execute_input": "2021-10-15T21:33:42.496126Z",
     "iopub.status.busy": "2021-10-15T21:33:42.496126Z",
     "iopub.status.idle": "2021-10-15T21:33:42.503924Z",
     "shell.execute_reply": "2021-10-15T21:33:42.503924Z",
     "shell.execute_reply.started": "2021-10-15T21:33:42.496126Z"
    }
   },
   "outputs": [],
   "source": [
    "from matplotlib import animation, rc"
   ]
  },
  {
   "cell_type": "code",
   "execution_count": 75,
   "metadata": {
    "execution": {
     "iopub.execute_input": "2021-10-15T21:33:42.504921Z",
     "iopub.status.busy": "2021-10-15T21:33:42.504921Z",
     "iopub.status.idle": "2021-10-15T21:33:42.519693Z",
     "shell.execute_reply": "2021-10-15T21:33:42.519693Z",
     "shell.execute_reply.started": "2021-10-15T21:33:42.504921Z"
    }
   },
   "outputs": [],
   "source": [
    "from IPython.display import HTML"
   ]
  },
  {
   "cell_type": "code",
   "execution_count": 76,
   "metadata": {
    "execution": {
     "iopub.execute_input": "2021-10-15T21:33:42.522721Z",
     "iopub.status.busy": "2021-10-15T21:33:42.522721Z",
     "iopub.status.idle": "2021-10-15T21:33:42.528253Z",
     "shell.execute_reply": "2021-10-15T21:33:42.528253Z",
     "shell.execute_reply.started": "2021-10-15T21:33:42.522721Z"
    }
   },
   "outputs": [],
   "source": [
    "base_url = 'https://api.pro.coinbase.com'"
   ]
  },
  {
   "cell_type": "code",
   "execution_count": 77,
   "metadata": {
    "execution": {
     "iopub.execute_input": "2021-10-15T21:33:42.529251Z",
     "iopub.status.busy": "2021-10-15T21:33:42.529251Z",
     "iopub.status.idle": "2021-10-15T21:33:42.542566Z",
     "shell.execute_reply": "2021-10-15T21:33:42.539191Z",
     "shell.execute_reply.started": "2021-10-15T21:33:42.529251Z"
    }
   },
   "outputs": [],
   "source": [
    "products = '/products'"
   ]
  },
  {
   "cell_type": "code",
   "execution_count": 78,
   "metadata": {
    "execution": {
     "iopub.execute_input": "2021-10-15T21:33:42.545139Z",
     "iopub.status.busy": "2021-10-15T21:33:42.544560Z",
     "iopub.status.idle": "2021-10-15T21:33:42.560768Z",
     "shell.execute_reply": "2021-10-15T21:33:42.559771Z",
     "shell.execute_reply.started": "2021-10-15T21:33:42.545139Z"
    },
    "tags": []
   },
   "outputs": [],
   "source": [
    "ticker = '/ticker'"
   ]
  },
  {
   "cell_type": "code",
   "execution_count": 79,
   "metadata": {
    "execution": {
     "iopub.execute_input": "2021-10-15T21:33:42.563141Z",
     "iopub.status.busy": "2021-10-15T21:33:42.562067Z",
     "iopub.status.idle": "2021-10-15T21:33:42.569975Z",
     "shell.execute_reply": "2021-10-15T21:33:42.568186Z",
     "shell.execute_reply.started": "2021-10-15T21:33:42.563063Z"
    }
   },
   "outputs": [],
   "source": [
    "book = '/book?level='"
   ]
  },
  {
   "cell_type": "code",
   "execution_count": 80,
   "metadata": {
    "execution": {
     "iopub.execute_input": "2021-10-15T21:33:42.577088Z",
     "iopub.status.busy": "2021-10-15T21:33:42.575094Z",
     "iopub.status.idle": "2021-10-15T21:33:42.590232Z",
     "shell.execute_reply": "2021-10-15T21:33:42.588222Z",
     "shell.execute_reply.started": "2021-10-15T21:33:42.577088Z"
    }
   },
   "outputs": [],
   "source": [
    "#Only shows best bid and ask\n",
    "level_1 = '1'\n",
    "#Only shows top 50 bids and asks\n",
    "level_2 = '2'\n",
    "#Shows all bids and asks\n",
    "level_3 = '3'"
   ]
  },
  {
   "cell_type": "code",
   "execution_count": 81,
   "metadata": {
    "execution": {
     "iopub.execute_input": "2021-10-15T21:33:42.595268Z",
     "iopub.status.busy": "2021-10-15T21:33:42.594272Z",
     "iopub.status.idle": "2021-10-15T21:33:42.609132Z",
     "shell.execute_reply": "2021-10-15T21:33:42.608264Z",
     "shell.execute_reply.started": "2021-10-15T21:33:42.594272Z"
    }
   },
   "outputs": [],
   "source": [
    "curr1 = 'BTC'\n",
    "curr2 = 'USD'\n",
    "pair = '/' + curr1 + '-' + curr2"
   ]
  },
  {
   "cell_type": "code",
   "execution_count": 82,
   "metadata": {
    "execution": {
     "iopub.execute_input": "2021-10-15T21:33:42.614411Z",
     "iopub.status.busy": "2021-10-15T21:33:42.612120Z",
     "iopub.status.idle": "2021-10-15T21:33:42.636474Z",
     "shell.execute_reply": "2021-10-15T21:33:42.634479Z",
     "shell.execute_reply.started": "2021-10-15T21:33:42.614411Z"
    }
   },
   "outputs": [],
   "source": [
    "def round_num(num, round_to_val):\n",
    "    while num % round_to_val != 0:\n",
    "        num -= 1\n",
    "    return num"
   ]
  },
  {
   "cell_type": "code",
   "execution_count": 83,
   "metadata": {
    "execution": {
     "iopub.execute_input": "2021-10-15T21:33:42.639596Z",
     "iopub.status.busy": "2021-10-15T21:33:42.638597Z",
     "iopub.status.idle": "2021-10-15T21:33:42.657100Z",
     "shell.execute_reply": "2021-10-15T21:33:42.656101Z",
     "shell.execute_reply.started": "2021-10-15T21:33:42.639596Z"
    }
   },
   "outputs": [
    {
     "data": {
      "text/plain": [
       "110"
      ]
     },
     "execution_count": 83,
     "metadata": {},
     "output_type": "execute_result"
    }
   ],
   "source": [
    "round_num(111, 5)"
   ]
  },
  {
   "cell_type": "code",
   "execution_count": 84,
   "metadata": {
    "execution": {
     "iopub.execute_input": "2021-10-15T21:33:42.659485Z",
     "iopub.status.busy": "2021-10-15T21:33:42.659094Z",
     "iopub.status.idle": "2021-10-15T21:33:42.697697Z",
     "shell.execute_reply": "2021-10-15T21:33:42.696698Z",
     "shell.execute_reply.started": "2021-10-15T21:33:42.659485Z"
    }
   },
   "outputs": [],
   "source": [
    "def gen_ob(pair, level):\n",
    "    data = requests.get(base_url + products + pair + book + level)\n",
    "    data = json.loads(data.content.decode('utf-8').replace(\"'\", '\"'))\n",
    "    bids = pd.DataFrame(data['bids'], columns=['price', 'amount', 'id'])\n",
    "    asks = pd.DataFrame(data['asks'], columns=['price', 'amount', 'id'])\n",
    "    bids['bid'] = 1\n",
    "    asks['ask'] = 1\n",
    "    ob = pd.concat([bids, asks])\n",
    "    ob = ob.fillna(0)\n",
    "    ob = ob.sort_values(by='price', ascending=False)\n",
    "    ob['price'] = ob['price'].apply(lambda price: float(price))\n",
    "    ob['amount'] = ob['amount'].apply(lambda amnt: float(amnt))\n",
    "    ob['price'] = np.round(ob['price'], 0)\n",
    "    ob['price'] = ob['price'].apply(lambda price: round_num(price, 1))\n",
    "    ob_price = ob.groupby('price')\n",
    "    result ={\n",
    "        'price': [],\n",
    "        'amount': [],\n",
    "        'bid': [],\n",
    "        'ask': []\n",
    "    }\n",
    "    for price in ob_price:\n",
    "        result['price'].append(price[0])\n",
    "        result['amount'].append(np.sum(price[1]['amount']))\n",
    "        result['bid'].append(price[1]['bid'].tolist()[0])\n",
    "        result['ask'].append(price[1]['ask'].tolist()[0])\n",
    "    ob = pd.DataFrame(result)\n",
    "    ob = ob.sort_values(by='price', ascending=False)\n",
    "    ob['amount'] = ob['amount'].apply(lambda amnt: float(amnt))\n",
    "    ob['amount'] = np.round(ob['amount'], 5)\n",
    "    ob['price'] = ob['price'].apply(lambda price: int(price))\n",
    "    ob['value'] = ob['price'] * ob['amount']\n",
    "    curr1 = pair.split('-')[0].strip('/')\n",
    "    curr2 = pair.split('-')[1]\n",
    "    ob.to_excel(curr1+'_'+curr2+'_ob.xlsx')\n",
    "    return ob"
   ]
  },
  {
   "cell_type": "code",
   "execution_count": 85,
   "metadata": {
    "execution": {
     "iopub.execute_input": "2021-10-15T21:33:42.705236Z",
     "iopub.status.busy": "2021-10-15T21:33:42.704240Z",
     "iopub.status.idle": "2021-10-15T21:34:02.045181Z",
     "shell.execute_reply": "2021-10-15T21:34:02.043805Z",
     "shell.execute_reply.started": "2021-10-15T21:33:42.705236Z"
    }
   },
   "outputs": [],
   "source": [
    "og_ob = gen_ob(pair, level_3)"
   ]
  },
  {
   "cell_type": "code",
   "execution_count": 86,
   "metadata": {
    "execution": {
     "iopub.execute_input": "2021-10-15T21:34:02.047747Z",
     "iopub.status.busy": "2021-10-15T21:34:02.046749Z",
     "iopub.status.idle": "2021-10-15T21:34:02.068230Z",
     "shell.execute_reply": "2021-10-15T21:34:02.067232Z",
     "shell.execute_reply.started": "2021-10-15T21:34:02.047747Z"
    },
    "tags": []
   },
   "outputs": [],
   "source": [
    "def ob_range(ob, upper, lower, metric, amount=None, value=None):\n",
    "    ob = ob[ob.price < upper]\n",
    "    ob = ob[ob.price > lower]\n",
    "    ob = ob.sort_values(by='price')\n",
    "    colors = []\n",
    "    for index in range(len(ob.price.tolist())):\n",
    "        if ob['bid'].tolist()[index] == 1:\n",
    "            colors.append('green')\n",
    "        if ob['ask'].tolist()[index] == 1:\n",
    "            colors.append('red')\n",
    "    if not(amount is None):\n",
    "        ob = ob[ob.amount > amount]\n",
    "    if not(value is None):\n",
    "        ob = ob[ob.value > value]\n",
    "    ax1.clear()\n",
    "    plt.grid(True)\n",
    "    x = ob['price'].apply(lambda price: str(price)).tolist()\n",
    "    y = ob[metric].tolist()\n",
    "    ax1.barh(x,y,color=colors)\n",
    "    plt.ylim([0, len(y)])\n",
    "    title = 'Bids and Asks for '+ curr1+'-'+curr2 + ' on '+ str(datetime.today().strftime('%m-%d-%Y'))\n",
    "    plt.title(title, loc='center',fontdict={'fontsize':20})\n",
    "    plt.xticks(rotation=45,fontsize='medium')\n",
    "    xlabel = 'Price of ' + curr1\n",
    "    plt.xlabel(xlabel, fontsize='x-large')\n",
    "    ylabel = 'Units of '+curr1\n",
    "    plt.ylabel(ylabel, fontsize='x-large')\n",
    "    plt.yticks(fontsize='medium')"
   ]
  },
  {
   "cell_type": "code",
   "execution_count": 91,
   "metadata": {
    "execution": {
     "iopub.execute_input": "2021-10-15T21:35:03.807335Z",
     "iopub.status.busy": "2021-10-15T21:35:03.806465Z",
     "iopub.status.idle": "2021-10-15T21:35:03.826166Z",
     "shell.execute_reply": "2021-10-15T21:35:03.825167Z",
     "shell.execute_reply.started": "2021-10-15T21:35:03.807335Z"
    },
    "tags": []
   },
   "outputs": [],
   "source": [
    "def ob_range_twit_chart(ob, upper, lower, metric, amount=None, value=None):\n",
    "    ob = ob[ob.price < upper]\n",
    "    ob = ob[ob.price > lower]\n",
    "    ob = ob.sort_values(by='price')\n",
    "    ob['og_index'] = ob.index\n",
    "    ob = ob.sort_values(by='amount', ascending=False)\n",
    "    ob = ob.head(30)\n",
    "    ob = ob.sort_values(by='og_index')\n",
    "    colors = []\n",
    "    for index in range(len(ob.price.tolist())):\n",
    "        if ob['bid'].tolist()[index] == 1:\n",
    "            colors.append('green')\n",
    "        if ob['ask'].tolist()[index] == 1:\n",
    "            colors.append('red')\n",
    "    if not(amount is None):\n",
    "        ob = ob[ob.amount > amount]\n",
    "    if not(value is None):\n",
    "        ob = ob[ob.value > value]\n",
    "    ax1.clear()\n",
    "    plt.grid(True)\n",
    "    x = ob['price'].apply(lambda price: str(price)).tolist()\n",
    "    y = ob[metric].tolist()\n",
    "    ax1.bar(x,y,color=colors)\n",
    "    now = datetime.now()\n",
    "    current_time = now.strftime(\"%H:%M\")\n",
    "    title = 'Bids and Asks for '+ curr1+'-'+curr2 + ' at '+ current_time + ' on '+ str(datetime.today().strftime('%m-%d-%Y'))\n",
    "    plt.title(title, loc='center',fontdict={'fontsize':20})\n",
    "    plt.xticks(rotation=45,fontsize='medium')\n",
    "    xlabel = 'Price of ' + curr1\n",
    "    plt.xlabel(xlabel, fontsize='x-large')\n",
    "    ylabel = 'Units of '+curr1\n",
    "    plt.ylabel(ylabel, fontsize='x-large')\n",
    "    plt.yticks(fontsize='medium')"
   ]
  },
  {
   "cell_type": "code",
   "execution_count": 92,
   "metadata": {
    "execution": {
     "iopub.execute_input": "2021-10-15T21:35:05.482146Z",
     "iopub.status.busy": "2021-10-15T21:35:05.481684Z",
     "iopub.status.idle": "2021-10-15T21:35:06.221302Z",
     "shell.execute_reply": "2021-10-15T21:35:06.220306Z",
     "shell.execute_reply.started": "2021-10-15T21:35:05.482146Z"
    },
    "tags": []
   },
   "outputs": [
    {
     "data": {
      "image/png": "[encoded data removed]",
      "text/plain": [
       "<Figure size 1080x360 with 1 Axes>"
      ]
     },
     "metadata": {
      "needs_background": "light"
     },
     "output_type": "display_data"
    }
   ],
   "source": [
    "fig = plt.figure(figsize=(15,5))\n",
    "ax1 = fig.add_subplot(1,1,1)\n",
    "price = requests.get(base_url + products + pair + ticker).json()\n",
    "price = float(price['price'])\n",
    "bound = .1\n",
    "price_upper = price * (1+bound)\n",
    "price_lower = price * (1-bound)\n",
    "ob_range_twit_chart(og_ob, upper=price_upper, lower=price_lower, metric='amount')"
   ]
  }
 ],
 "metadata": {
  "kernelspec": {
   "display_name": "Python 3 (ipykernel)",
   "language": "python",
   "name": "python3"
  },
  "language_info": {
   "codemirror_mode": {
    "name": "ipython",
    "version": 3
   },
   "file_extension": ".py",
   "mimetype": "text/x-python",
   "name": "python",
   "nbconvert_exporter": "python",
   "pygments_lexer": "ipython3",
   "version": "3.8.3"
  }
 },
 "nbformat": 4,
 "nbformat_minor": 4
}

{
 "cells": [
  {
   "cell_type": "markdown",
   "metadata": {},
   "source": [
    "#### TODO:\n",
    "- Algo seems to only be off by $100, but that's not much in the crypto world.\n",
    "- Need to figure out how to make this more useful. \n",
    "- Next price point isn't bad, but what's the start? I can make a decent model. Now what?\n",
    "    - Figure out how to generate the same data, but now estimate it for the next day."
   ]
  },
  {
   "cell_type": "markdown",
   "metadata": {},
   "source": [
    "# Use lagged values to predict current price to forecast price\n",
    "- Notes from this video: https://www.youtube.com/watch?v=xaIA83x5Icg\n",
    " - Create separate transformers for features on different scales\n",
    " - Use this video for building an initial LSTM model\n",
    "- Use this video and it's subsequent one for time series forecasting for BTC using binance exchange data: https://www.youtube.com/watch?v=jR0phoeXjrc\n",
    "    - Use shift to push a column down for matching previous data points to a forecasted point.\n",
    "    - This video is showing how to prep data for a time series model.\n",
    "    - This video is for how to take that preprocessed data and put into PyTorch for the LSTM model: https://www.youtube.com/watch?v=ODEGJ_kh2aA&t=107s\n",
    "         - "
   ]
  },
  {
   "cell_type": "markdown",
   "metadata": {},
   "source": [
    "### TODO:\n",
    "- Now, it shows a broad trend, but there's just nothing going on? Both indicate a lull right now. \n",
    "- Need to pull in the hourly data, to show if there's more variation."
   ]
  },
  {
   "cell_type": "markdown",
   "metadata": {},
   "source": [
    "Use Yahoo Finance for this file"
   ]
  },
  {
   "cell_type": "code",
   "execution_count": 936,
   "metadata": {},
   "outputs": [],
   "source": [
    "import pandas as pd\n",
    "import numpy as np\n",
    "import requests\n",
    "import json\n",
    "import matplotlib.pyplot as plt\n",
    "import os"
   ]
  },
  {
   "cell_type": "code",
   "execution_count": 937,
   "metadata": {},
   "outputs": [],
   "source": [
    "from xgboost import XGBRegressor\n",
    "from sklearn.pipeline import Pipeline\n",
    "from sklearn.model_selection import train_test_split\n",
    "from sklearn.preprocessing import StandardScaler\n",
    "from sklearn.metrics import mean_squared_error as mse"
   ]
  },
  {
   "cell_type": "code",
   "execution_count": 938,
   "metadata": {},
   "outputs": [],
   "source": [
    "import datetime"
   ]
  },
  {
   "cell_type": "code",
   "execution_count": 939,
   "metadata": {},
   "outputs": [],
   "source": [
    "import tensorflow as tf\n",
    "from keras import layers"
   ]
  },
  {
   "cell_type": "code",
   "execution_count": 940,
   "metadata": {},
   "outputs": [],
   "source": [
    "from keras import models"
   ]
  },
  {
   "cell_type": "code",
   "execution_count": 941,
   "metadata": {},
   "outputs": [],
   "source": [
    "from keras import optimizers"
   ]
  },
  {
   "cell_type": "code",
   "execution_count": 942,
   "metadata": {},
   "outputs": [],
   "source": [
    "import tqdm"
   ]
  },
  {
   "cell_type": "code",
   "execution_count": 943,
   "metadata": {},
   "outputs": [],
   "source": [
    "def train_models(df, label,training_cols, time_steps):\n",
    "    scaler = StandardScaler()\n",
    "    scaler.fit(df[[label]])\n",
    "    for col in training_cols:\n",
    "        df[col] = scaler.transform(df[[col]])\n",
    "    X = df[training_cols].values\n",
    "    y = df[label]\n",
    "    X_train, X_test, y_train, y_test = train_test_split(X, y, train_size=0.9, shuffle=False, random_state=1)\n",
    "    output = compare_rg(X_train, y_train, X_test, y_test, time_steps)\n",
    "    return output, scaler"
   ]
  },
  {
   "cell_type": "code",
   "execution_count": 944,
   "metadata": {},
   "outputs": [],
   "source": [
    "def compare_rg(X_train, y_train, X_test, y_test, time_steps):\n",
    "    classifiers = {\n",
    "#         'XGBR': XGBRegressor(),\n",
    "        'NN': neural_net(X_train.shape, time_steps)\n",
    "    }\n",
    "\n",
    "    outputs = {\n",
    "#         'XGBR': [],\n",
    "        'NN': []\n",
    "    }\n",
    "    for model in classifiers:\n",
    "        if model == 'NN':            \n",
    "            algo = classifiers[model]\n",
    "            X_train, y_train = create_dataset(X_train, y_train, time_steps)\n",
    "            X_test, y_test = create_dataset(X_test, y_test, time_steps)\n",
    "            algo.fit(X_train, y_train, X_test, y_test)\n",
    "        else:\n",
    "            algo = classifiers[model]\n",
    "            algo.fit(X_train, y_train)\n",
    "            y_predict = algo.predict(X_test)\n",
    "#             print(\" \")\n",
    "#             print(model, ': ',mse(y_test, y_predict))\n",
    "        for output in outputs:\n",
    "            if output == model:\n",
    "                outputs[output] = algo\n",
    "#         print('')\n",
    "    return outputs"
   ]
  },
  {
   "cell_type": "code",
   "execution_count": 945,
   "metadata": {},
   "outputs": [],
   "source": [
    "#https://machinelearningmastery.com/use-features-lstm-networks-time-series-forecasting/\n",
    "# https://www.kdnuggets.com/2018/11/keras-long-short-term-memory-lstm-model-predict-stock-prices.html\n",
    "class neural_net:\n",
    "    def __init__(self, shape_input, time_steps):\n",
    "        self.shape_input = shape_input\n",
    "        self.model = models.Sequential()\n",
    "        self.batch_size = 32\n",
    "        self.model.add(layers.LSTM(units=50, input_shape=(time_steps, shape_input[1]), return_sequences=False))\n",
    "#         self.model.add(layers.Dropout(0.5, name='dropout_0'))\n",
    "#         self.model.add(layers.Dense(15, activation='relu'))\n",
    "#         self.model.add(layers.Dropout(0.5, name='dropout_1'))\n",
    "        self.model.add(layers.Dense(1, activation='relu'))\n",
    "        self.model.compile(optimizer=optimizers.Adam(lr=0.001), loss='mean_squared_error')\n",
    "    \n",
    "    def fit(self, X_train, y_train, X_test, y_test):\n",
    "#         for val in y_train:\n",
    "#             print(val)\n",
    "        self.model.fit(x=X_train, y=y_train, batch_size = self.batch_size, epochs=50, shuffle=False, validation_split=0.1, verbose=0)\n",
    "        evaluation = self.model.evaluate(X_test, y_test)\n",
    "        print(evaluation)\n",
    "        print(self.model.summary())\n",
    "    \n",
    "    def predict(self, Xnew):\n",
    "        yNew = self.model.predict(Xnew)\n",
    "        return yNew"
   ]
  },
  {
   "cell_type": "code",
   "execution_count": 946,
   "metadata": {},
   "outputs": [],
   "source": [
    "def create_dataset(X, y, time_steps = 20):\n",
    "    y = y.values\n",
    "    Xs, ys = [] , []\n",
    "    for i in range(len(X) - time_steps):\n",
    "        v = X[i: (i+time_steps)]\n",
    "#         print(np.mean(v))\n",
    "#         print(y[(i+time_steps)])\n",
    "#         print('')\n",
    "        Xs.append(v)\n",
    "        ys.append(y[(i+time_steps)])\n",
    "    Xs = np.array(Xs)\n",
    "    ys = np.array(ys)\n",
    "    return Xs, ys"
   ]
  },
  {
   "cell_type": "code",
   "execution_count": 947,
   "metadata": {},
   "outputs": [],
   "source": [
    "future_estim_START = 6\n",
    "future_estim_STOP = 6\n",
    "\n",
    "NUM_MODELS = 1\n",
    "\n",
    "window_size = 20\n",
    "\n",
    "graph_timespan = 20\n",
    "\n",
    "MODEL_TYPE = 'NN'"
   ]
  },
  {
   "cell_type": "code",
   "execution_count": 948,
   "metadata": {},
   "outputs": [],
   "source": [
    "crypto = pd.read_csv('ETH-USD.csv')"
   ]
  },
  {
   "cell_type": "code",
   "execution_count": 949,
   "metadata": {},
   "outputs": [],
   "source": [
    "for col in crypto.columns.values:\n",
    "    crypto.rename(columns={\n",
    "        col: col.lower()\n",
    "    }, inplace=True)\n",
    "    \n",
    "ma = []\n",
    "upper = []\n",
    "lower = []\n",
    "for i in range(window_size):\n",
    "    ma.append(np.nan)\n",
    "    upper.append(np.nan)\n",
    "    lower.append(np.nan)\n",
    "for row in crypto.iterrows():\n",
    "    if row[0] < window_size:\n",
    "        continue\n",
    "#     print(row[0])\n",
    "    mean = np.mean(crypto.iloc[(row[0]-window_size):row[0]]['close'])\n",
    "    ma.append(mean)\n",
    "    std = np.std(crypto.iloc[(row[0]-window_size):row[0]]['close'])\n",
    "    upper.append((mean+std*2))\n",
    "    lower.append((mean-std*2)) \n",
    "\n",
    "crypto['ma20'] = ma\n",
    "crypto['upper'] = upper\n",
    "crypto['lower'] = lower\n",
    "\n",
    "training_cols = []\n",
    "for col in crypto.columns.values:\n",
    "    if 'next' not in col and 'date' not in col and 'adj' not in col and 'volume' not in col:\n",
    "        training_cols.append(col)\n",
    "\n",
    "crypto.drop('adj close',axis=1, inplace=True)"
   ]
  },
  {
   "cell_type": "code",
   "execution_count": 950,
   "metadata": {},
   "outputs": [],
   "source": [
    "og_crypto = crypto.copy()"
   ]
  },
  {
   "cell_type": "markdown",
   "metadata": {},
   "source": [
    "### TODO:\n",
    "- figure out issue with scaling.\n",
    "- Maybe just scrap this work on ARIMA model"
   ]
  },
  {
   "cell_type": "code",
   "execution_count": null,
   "metadata": {},
   "outputs": [],
   "source": []
  },
  {
   "cell_type": "code",
   "execution_count": null,
   "metadata": {},
   "outputs": [],
   "source": []
  },
  {
   "cell_type": "code",
   "execution_count": null,
   "metadata": {},
   "outputs": [],
   "source": []
  },
  {
   "cell_type": "code",
   "execution_count": 951,
   "metadata": {},
   "outputs": [
    {
     "name": "stderr",
     "output_type": "stream",
     "text": [
      "  0%|          | 0/1 [00:00<?, ?it/s]"
     ]
    },
    {
     "name": "stdout",
     "output_type": "stream",
     "text": [
      "6/6 [==============================] - 0s 2ms/step - loss: 4926668.5000\n",
      "4926668.5\n",
      "Model: \"sequential_93\"\n",
      "_________________________________________________________________\n",
      "Layer (type)                 Output Shape              Param #   \n",
      "=================================================================\n",
      "lstm_92 (LSTM)               (None, 50)                11600     \n",
      "_________________________________________________________________\n",
      "dense_180 (Dense)            (None, 1)                 51        \n",
      "=================================================================\n",
      "Total params: 11,651\n",
      "Trainable params: 11,651\n",
      "Non-trainable params: 0\n",
      "_________________________________________________________________\n",
      "None\n"
     ]
    },
    {
     "name": "stderr",
     "output_type": "stream",
     "text": [
      "100%|██████████| 1/1 [00:17<00:00, 17.97s/it]"
     ]
    },
    {
     "name": "stdout",
     "output_type": "stream",
     "text": [
      "<class 'list'>\n",
      "nan\n",
      "nan\n",
      "68.701004    0.696919\n",
      "68.700996    0.028011\n",
      "68.700981    0.011765\n",
      "68.700966    0.010084\n",
      "68.700989    0.005602\n",
      "               ...   \n",
      "14.179602    0.000560\n",
      "68.686943    0.000560\n",
      "65.937599    0.000560\n",
      "68.700386    0.000560\n",
      "15.018339    0.000560\n",
      "Name: predicted_close_0, Length: 373, dtype: float64\n"
     ]
    },
    {
     "name": "stderr",
     "output_type": "stream",
     "text": [
      "\n"
     ]
    }
   ],
   "source": [
    "future_estimations = {}\n",
    "for future_estim in tqdm.trange(future_estim_START, future_estim_STOP+1):\n",
    "    \n",
    "#     print('Future Estim: ', str(future_estim))\n",
    "    \n",
    "    output_label = 'next_close_'+str(future_estim)\n",
    "\n",
    "    crypto[output_label] = crypto['close'].shift(-1*future_estim)\n",
    "\n",
    "    temp_og_crypto = crypto.copy()\n",
    "    \n",
    "    trained_models = []\n",
    "    for i in range(NUM_MODELS):\n",
    "        crypto = temp_og_crypto.copy()\n",
    "        crypto = crypto.dropna()\n",
    "        output, scaler = train_models(crypto, output_label,training_cols, future_estim)\n",
    "        trained_models.append(output[MODEL_TYPE])\n",
    "\n",
    "    crypto = og_crypto.copy()\n",
    "\n",
    "    predict_cols = []\n",
    "    for i in range(NUM_MODELS):\n",
    "        col_name = 'predicted_close_'+str(i)\n",
    "        if MODEL_TYPE == 'NN':\n",
    "            y = crypto['date']\n",
    "            X_input, y_input = create_dataset(crypto[training_cols].values, y, future_estim)\n",
    "            result = trained_models[i].predict(X_input)\n",
    "            results = result.tolist()\n",
    "            to_append = []\n",
    "            for result in results:\n",
    "                to_append.append(result[0])\n",
    "            while len(to_append) < crypto.shape[0]:\n",
    "                to_append.append(np.nan)\n",
    "            crypto[col_name] = to_append\n",
    "            print(crypto[col_name].value_counts(normalize='true'))\n",
    "            predict_cols.append(col_name)\n",
    "        else:\n",
    "            crypto[col_name] = trained_models[i].predict(crypto[training_cols].values)\n",
    "            predict_cols.append(col_name)\n",
    "\n",
    "#     future_estimations.update({'predicted_close_'+str(future_estim) : crypto[})\n",
    "    \n",
    "    for col in temp_og_crypto.columns.values:\n",
    "        og_crypto[col] = temp_og_crypto[col]\n",
    "#     print('Cols:', og_crypto.columns.values)\n",
    "#     print(og_crypto.shape)"
   ]
  },
  {
   "cell_type": "code",
   "execution_count": 952,
   "metadata": {},
   "outputs": [
    {
     "data": {
      "text/html": [
       "<div>\n",
       "<style scoped>\n",
       "    .dataframe tbody tr th:only-of-type {\n",
       "        vertical-align: middle;\n",
       "    }\n",
       "\n",
       "    .dataframe tbody tr th {\n",
       "        vertical-align: top;\n",
       "    }\n",
       "\n",
       "    .dataframe thead th {\n",
       "        text-align: right;\n",
       "    }\n",
       "</style>\n",
       "<table border=\"1\" class=\"dataframe\">\n",
       "  <thead>\n",
       "    <tr style=\"text-align: right;\">\n",
       "      <th></th>\n",
       "      <th>date</th>\n",
       "      <th>open</th>\n",
       "      <th>high</th>\n",
       "      <th>low</th>\n",
       "      <th>close</th>\n",
       "      <th>volume</th>\n",
       "      <th>ma20</th>\n",
       "      <th>upper</th>\n",
       "      <th>lower</th>\n",
       "      <th>predicted_close_0</th>\n",
       "    </tr>\n",
       "  </thead>\n",
       "  <tbody>\n",
       "    <tr>\n",
       "      <th>0</th>\n",
       "      <td>2016-07-18</td>\n",
       "      <td>11.173000</td>\n",
       "      <td>11.610100</td>\n",
       "      <td>10.948300</td>\n",
       "      <td>11.034400</td>\n",
       "      <td>1.593190e+07</td>\n",
       "      <td>NaN</td>\n",
       "      <td>NaN</td>\n",
       "      <td>NaN</td>\n",
       "      <td>NaN</td>\n",
       "    </tr>\n",
       "    <tr>\n",
       "      <th>1</th>\n",
       "      <td>2016-07-19</td>\n",
       "      <td>11.046600</td>\n",
       "      <td>12.013900</td>\n",
       "      <td>11.010300</td>\n",
       "      <td>11.619100</td>\n",
       "      <td>2.173000e+07</td>\n",
       "      <td>NaN</td>\n",
       "      <td>NaN</td>\n",
       "      <td>NaN</td>\n",
       "      <td>NaN</td>\n",
       "    </tr>\n",
       "    <tr>\n",
       "      <th>2</th>\n",
       "      <td>2016-07-20</td>\n",
       "      <td>11.590200</td>\n",
       "      <td>12.991400</td>\n",
       "      <td>11.566900</td>\n",
       "      <td>12.450600</td>\n",
       "      <td>6.022610e+07</td>\n",
       "      <td>NaN</td>\n",
       "      <td>NaN</td>\n",
       "      <td>NaN</td>\n",
       "      <td>NaN</td>\n",
       "    </tr>\n",
       "    <tr>\n",
       "      <th>3</th>\n",
       "      <td>2016-07-21</td>\n",
       "      <td>12.460100</td>\n",
       "      <td>12.710300</td>\n",
       "      <td>11.993700</td>\n",
       "      <td>12.650700</td>\n",
       "      <td>2.463690e+07</td>\n",
       "      <td>NaN</td>\n",
       "      <td>NaN</td>\n",
       "      <td>NaN</td>\n",
       "      <td>NaN</td>\n",
       "    </tr>\n",
       "    <tr>\n",
       "      <th>4</th>\n",
       "      <td>2016-07-22</td>\n",
       "      <td>12.657500</td>\n",
       "      <td>14.813400</td>\n",
       "      <td>12.539900</td>\n",
       "      <td>14.661900</td>\n",
       "      <td>7.477950e+07</td>\n",
       "      <td>NaN</td>\n",
       "      <td>NaN</td>\n",
       "      <td>NaN</td>\n",
       "      <td>NaN</td>\n",
       "    </tr>\n",
       "    <tr>\n",
       "      <th>...</th>\n",
       "      <td>...</td>\n",
       "      <td>...</td>\n",
       "      <td>...</td>\n",
       "      <td>...</td>\n",
       "      <td>...</td>\n",
       "      <td>...</td>\n",
       "      <td>...</td>\n",
       "      <td>...</td>\n",
       "      <td>...</td>\n",
       "      <td>...</td>\n",
       "    </tr>\n",
       "    <tr>\n",
       "      <th>1822</th>\n",
       "      <td>2021-07-14</td>\n",
       "      <td>1941.167847</td>\n",
       "      <td>2015.107422</td>\n",
       "      <td>1869.223145</td>\n",
       "      <td>1994.331299</td>\n",
       "      <td>1.734282e+10</td>\n",
       "      <td>2113.464050</td>\n",
       "      <td>2403.885647</td>\n",
       "      <td>1823.042454</td>\n",
       "      <td>NaN</td>\n",
       "    </tr>\n",
       "    <tr>\n",
       "      <th>1823</th>\n",
       "      <td>2021-07-15</td>\n",
       "      <td>1994.712036</td>\n",
       "      <td>2037.742554</td>\n",
       "      <td>1883.272217</td>\n",
       "      <td>1911.175659</td>\n",
       "      <td>1.568809e+10</td>\n",
       "      <td>2113.757800</td>\n",
       "      <td>2403.684504</td>\n",
       "      <td>1823.831097</td>\n",
       "      <td>NaN</td>\n",
       "    </tr>\n",
       "    <tr>\n",
       "      <th>1824</th>\n",
       "      <td>2021-07-16</td>\n",
       "      <td>1916.598389</td>\n",
       "      <td>1959.696289</td>\n",
       "      <td>1853.590332</td>\n",
       "      <td>1880.382935</td>\n",
       "      <td>1.488457e+10</td>\n",
       "      <td>2118.655719</td>\n",
       "      <td>2390.877172</td>\n",
       "      <td>1846.434266</td>\n",
       "      <td>NaN</td>\n",
       "    </tr>\n",
       "    <tr>\n",
       "      <th>1825</th>\n",
       "      <td>2021-07-17</td>\n",
       "      <td>1876.881348</td>\n",
       "      <td>1917.597900</td>\n",
       "      <td>1855.590820</td>\n",
       "      <td>1898.825195</td>\n",
       "      <td>1.336428e+10</td>\n",
       "      <td>2121.212903</td>\n",
       "      <td>2383.283063</td>\n",
       "      <td>1859.142742</td>\n",
       "      <td>NaN</td>\n",
       "    </tr>\n",
       "    <tr>\n",
       "      <th>1826</th>\n",
       "      <td>2021-07-18</td>\n",
       "      <td>1900.933228</td>\n",
       "      <td>1987.093262</td>\n",
       "      <td>1900.933228</td>\n",
       "      <td>1953.981567</td>\n",
       "      <td>1.347822e+10</td>\n",
       "      <td>2117.209430</td>\n",
       "      <td>2390.077566</td>\n",
       "      <td>1844.341294</td>\n",
       "      <td>NaN</td>\n",
       "    </tr>\n",
       "  </tbody>\n",
       "</table>\n",
       "<p>1827 rows × 10 columns</p>\n",
       "</div>"
      ],
      "text/plain": [
       "            date         open         high          low        close  \\\n",
       "0     2016-07-18    11.173000    11.610100    10.948300    11.034400   \n",
       "1     2016-07-19    11.046600    12.013900    11.010300    11.619100   \n",
       "2     2016-07-20    11.590200    12.991400    11.566900    12.450600   \n",
       "3     2016-07-21    12.460100    12.710300    11.993700    12.650700   \n",
       "4     2016-07-22    12.657500    14.813400    12.539900    14.661900   \n",
       "...          ...          ...          ...          ...          ...   \n",
       "1822  2021-07-14  1941.167847  2015.107422  1869.223145  1994.331299   \n",
       "1823  2021-07-15  1994.712036  2037.742554  1883.272217  1911.175659   \n",
       "1824  2021-07-16  1916.598389  1959.696289  1853.590332  1880.382935   \n",
       "1825  2021-07-17  1876.881348  1917.597900  1855.590820  1898.825195   \n",
       "1826  2021-07-18  1900.933228  1987.093262  1900.933228  1953.981567   \n",
       "\n",
       "            volume         ma20        upper        lower  predicted_close_0  \n",
       "0     1.593190e+07          NaN          NaN          NaN                NaN  \n",
       "1     2.173000e+07          NaN          NaN          NaN                NaN  \n",
       "2     6.022610e+07          NaN          NaN          NaN                NaN  \n",
       "3     2.463690e+07          NaN          NaN          NaN                NaN  \n",
       "4     7.477950e+07          NaN          NaN          NaN                NaN  \n",
       "...            ...          ...          ...          ...                ...  \n",
       "1822  1.734282e+10  2113.464050  2403.885647  1823.042454                NaN  \n",
       "1823  1.568809e+10  2113.757800  2403.684504  1823.831097                NaN  \n",
       "1824  1.488457e+10  2118.655719  2390.877172  1846.434266                NaN  \n",
       "1825  1.336428e+10  2121.212903  2383.283063  1859.142742                NaN  \n",
       "1826  1.347822e+10  2117.209430  2390.077566  1844.341294                NaN  \n",
       "\n",
       "[1827 rows x 10 columns]"
      ]
     },
     "execution_count": 952,
     "metadata": {},
     "output_type": "execute_result"
    }
   ],
   "source": [
    "crypto"
   ]
  },
  {
   "cell_type": "code",
   "execution_count": 953,
   "metadata": {},
   "outputs": [],
   "source": [
    "dates = []\n",
    "for date in crypto['date']:\n",
    "    if not isinstance(date, str):\n",
    "        if date is np.nan:\n",
    "            prev_date += datetime.timedelta(days=1)\n",
    "            dates.append(prev_date)\n",
    "        else:\n",
    "            dates.append(date)\n",
    "            prev_date = date\n",
    "    else:\n",
    "        if date is np.nan:\n",
    "            prev_date += datetime.timedelta(days=1)\n",
    "            dates.append(prev_date)\n",
    "        else:\n",
    "            date_list = date.split('-')\n",
    "            date = datetime.datetime(year=int(date_list[0]), month=int(date_list[1]), day=int(date_list[2]))\n",
    "            dates.append(date)\n",
    "            prev_date = date"
   ]
  },
  {
   "cell_type": "code",
   "execution_count": 954,
   "metadata": {},
   "outputs": [],
   "source": [
    "crypto['date'] = dates"
   ]
  },
  {
   "cell_type": "code",
   "execution_count": 955,
   "metadata": {},
   "outputs": [],
   "source": [
    "crypto.dropna(subset=['date'], inplace=True)"
   ]
  },
  {
   "cell_type": "code",
   "execution_count": 956,
   "metadata": {},
   "outputs": [],
   "source": [
    "for estim in future_estimations:\n",
    "    crypto[estim] = future_estimations[estim]"
   ]
  },
  {
   "cell_type": "code",
   "execution_count": 957,
   "metadata": {},
   "outputs": [
    {
     "data": {
      "text/plain": [
       "{}"
      ]
     },
     "execution_count": 957,
     "metadata": {},
     "output_type": "execute_result"
    }
   ],
   "source": [
    "future_estimations"
   ]
  },
  {
   "cell_type": "code",
   "execution_count": 958,
   "metadata": {},
   "outputs": [
    {
     "data": {
      "text/html": [
       "<div>\n",
       "<style scoped>\n",
       "    .dataframe tbody tr th:only-of-type {\n",
       "        vertical-align: middle;\n",
       "    }\n",
       "\n",
       "    .dataframe tbody tr th {\n",
       "        vertical-align: top;\n",
       "    }\n",
       "\n",
       "    .dataframe thead th {\n",
       "        text-align: right;\n",
       "    }\n",
       "</style>\n",
       "<table border=\"1\" class=\"dataframe\">\n",
       "  <thead>\n",
       "    <tr style=\"text-align: right;\">\n",
       "      <th></th>\n",
       "      <th>date</th>\n",
       "      <th>open</th>\n",
       "      <th>high</th>\n",
       "      <th>low</th>\n",
       "      <th>close</th>\n",
       "      <th>volume</th>\n",
       "      <th>ma20</th>\n",
       "      <th>upper</th>\n",
       "      <th>lower</th>\n",
       "      <th>predicted_close_0</th>\n",
       "    </tr>\n",
       "  </thead>\n",
       "  <tbody>\n",
       "    <tr>\n",
       "      <th>0</th>\n",
       "      <td>2016-07-18</td>\n",
       "      <td>11.173000</td>\n",
       "      <td>11.610100</td>\n",
       "      <td>10.948300</td>\n",
       "      <td>11.034400</td>\n",
       "      <td>1.593190e+07</td>\n",
       "      <td>NaN</td>\n",
       "      <td>NaN</td>\n",
       "      <td>NaN</td>\n",
       "      <td>NaN</td>\n",
       "    </tr>\n",
       "    <tr>\n",
       "      <th>1</th>\n",
       "      <td>2016-07-19</td>\n",
       "      <td>11.046600</td>\n",
       "      <td>12.013900</td>\n",
       "      <td>11.010300</td>\n",
       "      <td>11.619100</td>\n",
       "      <td>2.173000e+07</td>\n",
       "      <td>NaN</td>\n",
       "      <td>NaN</td>\n",
       "      <td>NaN</td>\n",
       "      <td>NaN</td>\n",
       "    </tr>\n",
       "    <tr>\n",
       "      <th>2</th>\n",
       "      <td>2016-07-20</td>\n",
       "      <td>11.590200</td>\n",
       "      <td>12.991400</td>\n",
       "      <td>11.566900</td>\n",
       "      <td>12.450600</td>\n",
       "      <td>6.022610e+07</td>\n",
       "      <td>NaN</td>\n",
       "      <td>NaN</td>\n",
       "      <td>NaN</td>\n",
       "      <td>NaN</td>\n",
       "    </tr>\n",
       "    <tr>\n",
       "      <th>3</th>\n",
       "      <td>2016-07-21</td>\n",
       "      <td>12.460100</td>\n",
       "      <td>12.710300</td>\n",
       "      <td>11.993700</td>\n",
       "      <td>12.650700</td>\n",
       "      <td>2.463690e+07</td>\n",
       "      <td>NaN</td>\n",
       "      <td>NaN</td>\n",
       "      <td>NaN</td>\n",
       "      <td>NaN</td>\n",
       "    </tr>\n",
       "    <tr>\n",
       "      <th>4</th>\n",
       "      <td>2016-07-22</td>\n",
       "      <td>12.657500</td>\n",
       "      <td>14.813400</td>\n",
       "      <td>12.539900</td>\n",
       "      <td>14.661900</td>\n",
       "      <td>7.477950e+07</td>\n",
       "      <td>NaN</td>\n",
       "      <td>NaN</td>\n",
       "      <td>NaN</td>\n",
       "      <td>NaN</td>\n",
       "    </tr>\n",
       "    <tr>\n",
       "      <th>...</th>\n",
       "      <td>...</td>\n",
       "      <td>...</td>\n",
       "      <td>...</td>\n",
       "      <td>...</td>\n",
       "      <td>...</td>\n",
       "      <td>...</td>\n",
       "      <td>...</td>\n",
       "      <td>...</td>\n",
       "      <td>...</td>\n",
       "      <td>...</td>\n",
       "    </tr>\n",
       "    <tr>\n",
       "      <th>1822</th>\n",
       "      <td>2021-07-14</td>\n",
       "      <td>1941.167847</td>\n",
       "      <td>2015.107422</td>\n",
       "      <td>1869.223145</td>\n",
       "      <td>1994.331299</td>\n",
       "      <td>1.734282e+10</td>\n",
       "      <td>2113.464050</td>\n",
       "      <td>2403.885647</td>\n",
       "      <td>1823.042454</td>\n",
       "      <td>NaN</td>\n",
       "    </tr>\n",
       "    <tr>\n",
       "      <th>1823</th>\n",
       "      <td>2021-07-15</td>\n",
       "      <td>1994.712036</td>\n",
       "      <td>2037.742554</td>\n",
       "      <td>1883.272217</td>\n",
       "      <td>1911.175659</td>\n",
       "      <td>1.568809e+10</td>\n",
       "      <td>2113.757800</td>\n",
       "      <td>2403.684504</td>\n",
       "      <td>1823.831097</td>\n",
       "      <td>NaN</td>\n",
       "    </tr>\n",
       "    <tr>\n",
       "      <th>1824</th>\n",
       "      <td>2021-07-16</td>\n",
       "      <td>1916.598389</td>\n",
       "      <td>1959.696289</td>\n",
       "      <td>1853.590332</td>\n",
       "      <td>1880.382935</td>\n",
       "      <td>1.488457e+10</td>\n",
       "      <td>2118.655719</td>\n",
       "      <td>2390.877172</td>\n",
       "      <td>1846.434266</td>\n",
       "      <td>NaN</td>\n",
       "    </tr>\n",
       "    <tr>\n",
       "      <th>1825</th>\n",
       "      <td>2021-07-17</td>\n",
       "      <td>1876.881348</td>\n",
       "      <td>1917.597900</td>\n",
       "      <td>1855.590820</td>\n",
       "      <td>1898.825195</td>\n",
       "      <td>1.336428e+10</td>\n",
       "      <td>2121.212903</td>\n",
       "      <td>2383.283063</td>\n",
       "      <td>1859.142742</td>\n",
       "      <td>NaN</td>\n",
       "    </tr>\n",
       "    <tr>\n",
       "      <th>1826</th>\n",
       "      <td>2021-07-18</td>\n",
       "      <td>1900.933228</td>\n",
       "      <td>1987.093262</td>\n",
       "      <td>1900.933228</td>\n",
       "      <td>1953.981567</td>\n",
       "      <td>1.347822e+10</td>\n",
       "      <td>2117.209430</td>\n",
       "      <td>2390.077566</td>\n",
       "      <td>1844.341294</td>\n",
       "      <td>NaN</td>\n",
       "    </tr>\n",
       "  </tbody>\n",
       "</table>\n",
       "<p>1827 rows × 10 columns</p>\n",
       "</div>"
      ],
      "text/plain": [
       "           date         open         high          low        close  \\\n",
       "0    2016-07-18    11.173000    11.610100    10.948300    11.034400   \n",
       "1    2016-07-19    11.046600    12.013900    11.010300    11.619100   \n",
       "2    2016-07-20    11.590200    12.991400    11.566900    12.450600   \n",
       "3    2016-07-21    12.460100    12.710300    11.993700    12.650700   \n",
       "4    2016-07-22    12.657500    14.813400    12.539900    14.661900   \n",
       "...         ...          ...          ...          ...          ...   \n",
       "1822 2021-07-14  1941.167847  2015.107422  1869.223145  1994.331299   \n",
       "1823 2021-07-15  1994.712036  2037.742554  1883.272217  1911.175659   \n",
       "1824 2021-07-16  1916.598389  1959.696289  1853.590332  1880.382935   \n",
       "1825 2021-07-17  1876.881348  1917.597900  1855.590820  1898.825195   \n",
       "1826 2021-07-18  1900.933228  1987.093262  1900.933228  1953.981567   \n",
       "\n",
       "            volume         ma20        upper        lower  predicted_close_0  \n",
       "0     1.593190e+07          NaN          NaN          NaN                NaN  \n",
       "1     2.173000e+07          NaN          NaN          NaN                NaN  \n",
       "2     6.022610e+07          NaN          NaN          NaN                NaN  \n",
       "3     2.463690e+07          NaN          NaN          NaN                NaN  \n",
       "4     7.477950e+07          NaN          NaN          NaN                NaN  \n",
       "...            ...          ...          ...          ...                ...  \n",
       "1822  1.734282e+10  2113.464050  2403.885647  1823.042454                NaN  \n",
       "1823  1.568809e+10  2113.757800  2403.684504  1823.831097                NaN  \n",
       "1824  1.488457e+10  2118.655719  2390.877172  1846.434266                NaN  \n",
       "1825  1.336428e+10  2121.212903  2383.283063  1859.142742                NaN  \n",
       "1826  1.347822e+10  2117.209430  2390.077566  1844.341294                NaN  \n",
       "\n",
       "[1827 rows x 10 columns]"
      ]
     },
     "execution_count": 958,
     "metadata": {},
     "output_type": "execute_result"
    }
   ],
   "source": [
    "crypto"
   ]
  },
  {
   "cell_type": "code",
   "execution_count": 959,
   "metadata": {},
   "outputs": [],
   "source": [
    "next_cols = []\n",
    "for col in crypto.columns.values:\n",
    "    if 'next' in col:\n",
    "        next_cols.append(col)"
   ]
  },
  {
   "cell_type": "code",
   "execution_count": 960,
   "metadata": {},
   "outputs": [],
   "source": [
    "for col in next_cols:\n",
    "    future_estim = int(col.split('_')[-1])\n",
    "    crypto['next_close_'+str(future_estim)] = crypto['next_close_'+str(future_estim)].shift(future_estim)\n",
    "    crypto['predicted_close_'+str(future_estim)] = crypto['predicted_close_'+str(future_estim)].shift(future_estim)"
   ]
  },
  {
   "cell_type": "code",
   "execution_count": 961,
   "metadata": {},
   "outputs": [],
   "source": [
    "predict_cols = []\n",
    "for col in crypto.columns.values:\n",
    "    if 'predicted' in col:\n",
    "        predict_cols.append(col)"
   ]
  },
  {
   "cell_type": "code",
   "execution_count": 962,
   "metadata": {},
   "outputs": [],
   "source": [
    "crypto = crypto.tail(graph_timespan)"
   ]
  },
  {
   "cell_type": "code",
   "execution_count": 963,
   "metadata": {},
   "outputs": [],
   "source": [
    "plot_estims = {}\n",
    "for col in predict_cols:\n",
    "    plot_estims.update({col: crypto[col].tolist()})"
   ]
  },
  {
   "cell_type": "code",
   "execution_count": 964,
   "metadata": {},
   "outputs": [],
   "source": [
    "y_true = crypto['close'].tolist()\n",
    "y_ma = crypto['ma20'].tolist()\n",
    "y_upper = crypto['upper'].tolist()\n",
    "y_lower = crypto['lower'].tolist()\n",
    "x = crypto['date'].tolist()"
   ]
  },
  {
   "cell_type": "code",
   "execution_count": 965,
   "metadata": {},
   "outputs": [
    {
     "data": {
      "image/png": "[encoded data removed]",
      "text/plain": [
       "<Figure size 2880x1440 with 1 Axes>"
      ]
     },
     "metadata": {
      "needs_background": "light"
     },
     "output_type": "display_data"
    }
   ],
   "source": [
    "fig = plt.figure(figsize=(40,20))\n",
    "for estim in plot_estims:\n",
    "    plt.plot(x, plot_estims[estim], label=estim)\n",
    "plt.plot(x, y_ma, label='20 Day MA', color='r')\n",
    "plt.plot(x, y_upper, label='Upper Bound', color='b')\n",
    "plt.plot(x, y_lower, label='Lower Bound', color='b')\n",
    "plt.plot(x, y_true, label='ETH', linewidth=10, color='b', alpha=0.3)\n",
    "plt.legend()\n",
    "plt.grid(True)\n",
    "plt.show()"
   ]
  },
  {
   "cell_type": "code",
   "execution_count": 966,
   "metadata": {},
   "outputs": [
    {
     "data": {
      "text/html": [
       "<div>\n",
       "<style scoped>\n",
       "    .dataframe tbody tr th:only-of-type {\n",
       "        vertical-align: middle;\n",
       "    }\n",
       "\n",
       "    .dataframe tbody tr th {\n",
       "        vertical-align: top;\n",
       "    }\n",
       "\n",
       "    .dataframe thead th {\n",
       "        text-align: right;\n",
       "    }\n",
       "</style>\n",
       "<table border=\"1\" class=\"dataframe\">\n",
       "  <thead>\n",
       "    <tr style=\"text-align: right;\">\n",
       "      <th></th>\n",
       "      <th>predicted_close_0</th>\n",
       "    </tr>\n",
       "  </thead>\n",
       "  <tbody>\n",
       "    <tr>\n",
       "      <th>1822</th>\n",
       "      <td>NaN</td>\n",
       "    </tr>\n",
       "    <tr>\n",
       "      <th>1823</th>\n",
       "      <td>NaN</td>\n",
       "    </tr>\n",
       "    <tr>\n",
       "      <th>1824</th>\n",
       "      <td>NaN</td>\n",
       "    </tr>\n",
       "    <tr>\n",
       "      <th>1825</th>\n",
       "      <td>NaN</td>\n",
       "    </tr>\n",
       "    <tr>\n",
       "      <th>1826</th>\n",
       "      <td>NaN</td>\n",
       "    </tr>\n",
       "  </tbody>\n",
       "</table>\n",
       "</div>"
      ],
      "text/plain": [
       "      predicted_close_0\n",
       "1822                NaN\n",
       "1823                NaN\n",
       "1824                NaN\n",
       "1825                NaN\n",
       "1826                NaN"
      ]
     },
     "execution_count": 966,
     "metadata": {},
     "output_type": "execute_result"
    }
   ],
   "source": [
    "crypto[predict_cols].tail()"
   ]
  },
  {
   "cell_type": "code",
   "execution_count": 967,
   "metadata": {},
   "outputs": [],
   "source": [
    "# crypto.to_excel('ETH-USD_forecast_from_'+str(datetime.datetime.today()).split(' ')[0]+'.xlsx')"
   ]
  }
 ],
 "metadata": {
  "kernelspec": {
   "display_name": "Python 3",
   "language": "python",
   "name": "python3"
  },
  "language_info": {
   "codemirror_mode": {
    "name": "ipython",
    "version": 3
   },
   "file_extension": ".py",
   "mimetype": "text/x-python",
   "name": "python",
   "nbconvert_exporter": "python",
   "pygments_lexer": "ipython3",
   "version": "3.8.3"
  }
 },
 "nbformat": 4,
 "nbformat_minor": 4
}
